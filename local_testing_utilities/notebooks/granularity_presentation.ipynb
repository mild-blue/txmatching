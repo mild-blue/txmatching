{
 "cells": [
  {
   "cell_type": "markdown",
   "metadata": {},
   "source": [
    "# Granularity presentation\n",
    "\n",
    "This notebook is overview of results from granularity investigation. The investigation consists of the following notebooks:\n",
    "- old_data_investigation.ipynb\n",
    "- transplants_investigation.ipynb\n",
    "- granulairty_investigation.ipynb\n",
    "\n"
   ]
  },
  {
   "cell_type": "markdown",
   "metadata": {},
   "source": [
    "## Imports"
   ]
  },
  {
   "cell_type": "code",
   "execution_count": null,
   "metadata": {},
   "outputs": [],
   "source": [
    "import pandas as pd\n",
    "import os\n",
    "from typing import List\n",
    "import re\n",
    "import numpy as np\n",
    "import sys\n",
    "import math\n",
    "import time\n",
    "import logging"
   ]
  },
  {
   "cell_type": "code",
   "execution_count": null,
   "metadata": {},
   "outputs": [],
   "source": [
    "sys.path.insert(0, \"../..\")\n",
    "\n",
    "from local_testing_utilities.notebook_utils.pairing_data import parse_pairing_data\n",
    "from local_testing_utilities.notebook_utils.survival_data import parse_survival_data"
   ]
  },
  {
   "cell_type": "markdown",
   "metadata": {},
   "source": [
    "## Load data\n",
    "\n",
    "First, we load patients data"
   ]
  },
  {
   "cell_type": "code",
   "execution_count": null,
   "metadata": {},
   "outputs": [],
   "source": [
    "df_all_patients = parse_pairing_data('data/KDP-processed', 'data/patients_list_recipientID.csv', remove_single_donors=False)"
   ]
  },
  {
   "cell_type": "code",
   "execution_count": null,
   "metadata": {},
   "outputs": [],
   "source": [
    "df_survival = parse_survival_data('data/LD_kidney_survival.csv')\n",
    "df_survival_summary = pd.read_pickle('data/survival_summary.pkl')"
   ]
  },
  {
   "cell_type": "code",
   "execution_count": null,
   "metadata": {},
   "outputs": [],
   "source": [
    "df_patients_with_recipient_id = pd.read_csv('data/patients_list_recipientID.csv')\n",
    "df_transplanted_donors = pd.read_excel('data/transplanted_donors.xlsx', index_col=None)"
   ]
  },
  {
   "cell_type": "markdown",
   "metadata": {},
   "source": [
    "### In old txm events, we found\n",
    "\n",
    "Patients records:"
   ]
  },
  {
   "cell_type": "code",
   "execution_count": null,
   "metadata": {},
   "outputs": [],
   "source": [
    "len(df_all_patients.index)"
   ]
  },
  {
   "cell_type": "markdown",
   "metadata": {},
   "source": [
    "Unique donors:"
   ]
  },
  {
   "cell_type": "code",
   "execution_count": null,
   "metadata": {},
   "outputs": [],
   "source": [
    "len(df_all_patients.groupby(['donor_name']).first().index)"
   ]
  },
  {
   "cell_type": "markdown",
   "metadata": {},
   "source": [
    "Unique recipients:"
   ]
  },
  {
   "cell_type": "code",
   "execution_count": null,
   "metadata": {},
   "outputs": [],
   "source": [
    "len(df_all_patients.loc[lambda df: df.recipient_name != ''].groupby(['recipient_name']).first().index)"
   ]
  },
  {
   "cell_type": "markdown",
   "metadata": {},
   "source": [
    "Each color correspond to one recipient. We can see in what txm events the recipient was found in the following plot:"
   ]
  },
  {
   "cell_type": "code",
   "execution_count": null,
   "metadata": {},
   "outputs": [],
   "source": [
    "df_event_to_patients = pd.pivot_table(df_all_patients.assign(one=1), values='one', index=['txm_event'], columns=['recipient_id'], aggfunc=np.sum, fill_value=0)\n",
    "df_event_to_patients.plot.area(figsize=(20,10), legend=False, title='In what txm events each patient was')"
   ]
  },
  {
   "cell_type": "markdown",
   "metadata": {},
   "source": [
    "## Ended patients"
   ]
  },
  {
   "cell_type": "markdown",
   "metadata": {},
   "source": [
    "We checked which patients ended in what TXM event. Then we searched for a transplant in survival data to know, if the patient ended, because he or she had a transplant or if he or she ended for other reason."
   ]
  },
  {
   "cell_type": "code",
   "execution_count": null,
   "metadata": {},
   "outputs": [],
   "source": [
    "df_donors_last_event = df_all_patients.loc[\n",
    "    df_all_patients.apply(\n",
    "        lambda row1:\n",
    "        not df_all_patients.apply(\n",
    "            lambda row2:\n",
    "            row1.txm_event + 1 == row2.txm_event and \\\n",
    "            row1.donor_name == row2.donor_name,\n",
    "            axis=1\n",
    "        ).any(),\n",
    "        axis=1\n",
    "    )\n",
    "]\n",
    "\n",
    "df_recipients_last_event = df_all_patients.loc[\n",
    "    df_all_patients.apply(\n",
    "        lambda row1:\n",
    "        not df_all_patients.apply(\n",
    "            lambda row2:\n",
    "            row1.txm_event + 1 == row2.txm_event and \\\n",
    "            row1.recipient_name == row2.recipient_name,\n",
    "            axis=1\n",
    "        ).any() and \\\n",
    "        row1.recipient_name != '',\n",
    "        axis=1\n",
    "    )\n",
    "]\n",
    "\n",
    "df_transplanted_donors = pd.read_excel('data/transplanted_donors.xlsx', index_col=None)\n",
    "\n",
    "df_donors_last_event_with_surv = df_donors_last_event\\\n",
    "    .join(df_transplanted_donors.set_index('donor_name')['target_recipient_id'], on='donor_name')\\\n",
    "    .join(df_survival_summary.set_index('RecipientID'), on='target_recipient_id', rsuffix='_surv')\n",
    "\n",
    "df_recipients_last_event_with_surv = df_recipients_last_event.join(df_survival_summary.set_index('RecipientID'), on='recipient_id', rsuffix='_surv')\n",
    "\n",
    "df_recipients_last_event_with_surv.groupby('txm_event').count()\\\n",
    "    .join(df_donors_last_event_with_surv.groupby('txm_event').count(), rsuffix='_donors')\\\n",
    "    .apply(lambda row: pd.Series(\n",
    "    {\n",
    "        'Recipients ended with transplant found': row.delay,\n",
    "        'Recipients ended without transplant': row.recipient_name - row.delay,\n",
    "    }), axis=1)\\\n",
    "    .plot.bar(\n",
    "        title='Patients that were seen in the given txm event but were not seen in the next txm event',\n",
    "        figsize=(14, 7),\n",
    "        stacked=True\n",
    "    )"
   ]
  },
  {
   "cell_type": "markdown",
   "metadata": {},
   "source": [
    "## Compute matchings for TXM event with various granularity\n",
    "We ran the matching algorithm for patients in TXM events with various granularity.\n",
    "\n",
    "- granularity 1 = 3 months\n",
    "- granularity 2 = 6 months\n",
    "- granularity 3 = 9 months\n",
    "- granularity 4 = 12 months\n",
    "\n",
    "For given granularity, each event has patients from the originla event plus patients from $granularity - 1$ previous events that have been transplanted."
   ]
  },
  {
   "cell_type": "code",
   "execution_count": null,
   "metadata": {},
   "outputs": [],
   "source": [
    "df_granularity_results = pd.read_csv('data/granularity_results.csv')"
   ]
  },
  {
   "cell_type": "code",
   "execution_count": null,
   "metadata": {},
   "outputs": [],
   "source": [
    "# df_granularity_results.pivot_table(index='txm_event', columns='granularity', values=['donors_count']).plot(ylabel='Donors count')\n",
    "# df_granularity_results.pivot_table(index='txm_event', columns='granularity', values='recipients_count').plot(ylabel='Recipients count')\n",
    "df_granularity_results.pivot_table(index='txm_event', columns='granularity', values='matching_pairs_count').plot(ylabel='matching_pairs_count')\n",
    "df_granularity_results.pivot_table(index='txm_event', columns='granularity', values='matching_pairs_count_normalized').plot(ylabel='matching_pairs_count_normalized')\n",
    "# df_granularity_results.pivot_table(index='txm_event', columns='granularity', values='elapsed_time').plot(ylabel='elapsed_time (s)')"
   ]
  },
  {
   "cell_type": "markdown",
   "metadata": {},
   "source": [
    "Show, how many patients would be transplanted in the given year of various granularities. \n",
    "\n",
    "For granularity 2 (6 months):\n",
    "- shift 0 corresponds to pairing in winter and **summer**\n",
    "- shift 1 corresponds to pairing in spring and **autumn**\n",
    "\n",
    "For granulairty 4 (12 months):\n",
    "- shift 0 corresponds to paring in **winter**\n",
    "- shift 1 corresponds to paring in **spring**\n",
    "- shift 2 corresponds to paring in **summer**\n",
    "- shift 3 corresponds to paring in **autumn**"
   ]
  },
  {
   "cell_type": "code",
   "execution_count": null,
   "metadata": {},
   "outputs": [],
   "source": [
    "df_results_per_year = df_granularity_results\\\n",
    "    .assign(year=lambda df: (df.txm_event-10)//4)\\\n",
    "    .assign(event_in_year=lambda df: (df.txm_event-10)%4)\n",
    "df_results_per_year['granularity_1'] = df_results_per_year.apply(lambda s: s.matching_pairs_count if s.granularity == 1 else 0, axis=1)\n",
    "df_results_per_year['granularity_2_shift_0'] = df_results_per_year.apply(lambda s: s.matching_pairs_count if s.granularity == 2 and s.event_in_year in [0, 2] else 0, axis=1)\n",
    "df_results_per_year['granularity_2_shift_1'] = df_results_per_year.apply(lambda s: s.matching_pairs_count if s.granularity == 2 and s.event_in_year in [1, 3] else 0, axis=1)\n",
    "df_results_per_year = df_results_per_year.assign(granularity_2_mean=lambda df: (df.granularity_2_shift_0 + df.granularity_2_shift_1) / 2)\n",
    "df_results_per_year['granularity_4_shift_0'] = df_results_per_year.apply(lambda s: s.matching_pairs_count if s.granularity == 4 and s.event_in_year == 0 else 0, axis=1)\n",
    "df_results_per_year['granularity_4_shift_1'] = df_results_per_year.apply(lambda s: s.matching_pairs_count if s.granularity == 4 and s.event_in_year == 1 else 0, axis=1)\n",
    "df_results_per_year['granularity_4_shift_2'] = df_results_per_year.apply(lambda s: s.matching_pairs_count if s.granularity == 4 and s.event_in_year == 2 else 0, axis=1)\n",
    "df_results_per_year['granularity_4_shift_3'] = df_results_per_year.apply(lambda s: s.matching_pairs_count if s.granularity == 4 and s.event_in_year == 3 else 0, axis=1)\n",
    "df_results_per_year = df_results_per_year.assign(granularity_4_mean=lambda df: (df.granularity_4_shift_0 + df.granularity_4_shift_1 + df.granularity_4_shift_2 + df.granularity_4_shift_3) / 4)\n",
    "\n",
    "df_results_per_year = df_results_per_year.groupby(['year']).sum().reset_index()\n",
    "\n",
    "# Do not show data from txm events that are not complete\n",
    "df_results_per_year.loc[0, 'granularity_2_shift_0'] = None\n",
    "df_results_per_year.loc[0, 'granularity_4_shift_0'] = None\n",
    "df_results_per_year.loc[0, 'granularity_4_shift_1'] = None\n",
    "df_results_per_year.loc[0, 'granularity_4_shift_2'] = None\n",
    "\n",
    "df_results_per_year = df_results_per_year[[\n",
    "    'granularity_1',\n",
    "    'granularity_2_shift_0',\n",
    "    'granularity_2_shift_1',\n",
    "    'granularity_2_mean',\n",
    "    'granularity_4_shift_0',\n",
    "    'granularity_4_shift_1',\n",
    "    'granularity_4_shift_2',\n",
    "    'granularity_4_shift_3',\n",
    "    'granularity_4_mean'\n",
    "]]\n",
    "\n",
    "df_results_per_year.plot(\n",
    "    figsize=(15, 7), style=['b-','g-.','g--','g-','r-.','r--','r-o','r-.','r-'],\n",
    ")"
   ]
  },
  {
   "cell_type": "markdown",
   "metadata": {},
   "source": [
    "#### Overall number of transplants"
   ]
  },
  {
   "cell_type": "code",
   "execution_count": null,
   "metadata": {},
   "outputs": [],
   "source": [
    "df_results_per_year.loc[1:].sum().plot.barh()\n",
    "df_results_per_year.loc[1:].sum()[['granularity_1', 'granularity_2_mean', 'granularity_4_mean']]"
   ]
  },
  {
   "cell_type": "markdown",
   "metadata": {},
   "source": [
    "### Show dependency between patient count and found transplants"
   ]
  },
  {
   "cell_type": "markdown",
   "metadata": {},
   "source": [
    "We ran the matching algorithm on random patients found in old pairing data. We show dependency between number of input patients and number of transplants found."
   ]
  },
  {
   "cell_type": "code",
   "execution_count": null,
   "metadata": {},
   "outputs": [],
   "source": [
    "df_ratio_results = pd.read_csv('data/ratio_results.csv')"
   ]
  },
  {
   "cell_type": "markdown",
   "metadata": {},
   "source": [
    "Number of found transplants for given patient count"
   ]
  },
  {
   "cell_type": "code",
   "execution_count": null,
   "metadata": {},
   "outputs": [],
   "source": [
    "df_ratio_results.groupby('patients').agg({'matching_pairs_count': ['mean', 'std']}).plot(xlim=0, ylim=0)"
   ]
  },
  {
   "cell_type": "markdown",
   "metadata": {},
   "source": [
    "Ratio between number of found transplants and number of patients for given patient count."
   ]
  },
  {
   "cell_type": "code",
   "execution_count": null,
   "metadata": {},
   "outputs": [],
   "source": [
    "df_ratio_results.assign(ratio=lambda df: df.matching_pairs_count/df.patients).groupby('patients').agg({'ratio': ['mean', 'std']}).plot(xlim=0, ylim=0)"
   ]
  }
 ],
 "metadata": {
  "kernelspec": {
   "display_name": "TXM new",
   "language": "python",
   "name": "txmatching"
  },
  "language_info": {
   "codemirror_mode": {
    "name": "ipython",
    "version": 3
   },
   "file_extension": ".py",
   "mimetype": "text/x-python",
   "name": "python",
   "nbconvert_exporter": "python",
   "pygments_lexer": "ipython3",
   "version": "3.8.3"
  }
 },
 "nbformat": 4,
 "nbformat_minor": 2
}
