{
 "cells": [
  {
   "cell_type": "markdown",
   "metadata": {},
   "source": [
    "# Run scorer on old data\n",
    "\n",
    "Please use `old_data_investigation` notebook to export all required data."
   ]
  },
  {
   "cell_type": "markdown",
   "metadata": {},
   "source": [
    "## Imports"
   ]
  },
  {
   "cell_type": "code",
   "execution_count": null,
   "metadata": {},
   "outputs": [],
   "source": [
    "import pandas as pd\n",
    "import os\n",
    "import re\n",
    "import numpy as np\n",
    "import sys\n",
    "import math"
   ]
  },
  {
   "cell_type": "code",
   "execution_count": null,
   "metadata": {},
   "outputs": [],
   "source": [
    "sys.path.insert(0, \"../..\")\n",
    "\n",
    "from txmatching.scorers.split_hla_additive_scorer import SplitScorer\n",
    "from txmatching.scorers.high_res_hla_additive_scorer import HighResScorer\n",
    "from txmatching.scorers.high_res_other_hla_types_additive_scorer import \\\n",
    "    HighResWithDQDPScorer\n",
    "\n",
    "from txmatching.utils.blood_groups import BloodGroup\n",
    "from txmatching.utils.country_enum import Country\n",
    "\n",
    "from txmatching.patients.patient import Donor, Recipient\n",
    "from txmatching.patients.patient_parameters import PatientParameters\n",
    "\n",
    "from tests.test_utilities.hla_preparation_utils import (create_antibodies,\n",
    "                                                        create_hla_typing)\n",
    "\n",
    "from tests.test_utilities.prepare_app_for_tests import DbTests"
   ]
  },
  {
   "cell_type": "markdown",
   "metadata": {},
   "source": [
    "## Load data"
   ]
  },
  {
   "cell_type": "code",
   "execution_count": null,
   "metadata": {},
   "outputs": [],
   "source": [
    "df_survival_summary = pd.read_pickle('data/survival_summary.pkl')\n",
    "df_survival_summary.head()"
   ]
  },
  {
   "cell_type": "code",
   "execution_count": null,
   "metadata": {},
   "outputs": [],
   "source": [
    "# Initialize db\n",
    "test = DbTests()\n",
    "test.setUp()"
   ]
  },
  {
   "cell_type": "code",
   "execution_count": null,
   "metadata": {},
   "outputs": [],
   "source": [
    "# test.tearDown()"
   ]
  },
  {
   "cell_type": "code",
   "execution_count": null,
   "metadata": {},
   "outputs": [],
   "source": [
    "# Select scorer that will be used\n",
    "\n",
    "split_scorer = SplitScorer()\n",
    "high_res_scorer = HighResScorer()\n",
    "high_res_other_hla_types_scorer = HighResWithDQDPScorer()\n",
    "\n",
    "active_scorer = split_scorer"
   ]
  },
  {
   "cell_type": "code",
   "execution_count": null,
   "metadata": {},
   "outputs": [],
   "source": [
    "def row_to_score(row):\n",
    "    \n",
    "    donor_typization = row.donor_typization\n",
    "    recipient_typization = row.recipient_typization\n",
    "    \n",
    "    if donor_typization == '' or recipient_typization == '':\n",
    "        return None\n",
    "    \n",
    "    donor_typing = donor_typization.split(\" \")\n",
    "    recipient_typing = recipient_typization.split(\" \")\n",
    "    \n",
    "    donor = Donor(\n",
    "        db_id=-1,\n",
    "        medical_id='donor',\n",
    "        related_recipient_db_id=1,\n",
    "        parameters=PatientParameters(\n",
    "            blood_group=BloodGroup.A,\n",
    "            country_code=Country.CZE,\n",
    "            hla_typing=create_hla_typing(\n",
    "                donor_typing\n",
    "            )\n",
    "        )\n",
    "    )\n",
    "    \n",
    "    recipient = Recipient(\n",
    "        db_id=1,\n",
    "        acceptable_blood_groups=[],\n",
    "        related_donor_db_id=1,\n",
    "        medical_id='recipient',\n",
    "        parameters=PatientParameters(\n",
    "            blood_group=BloodGroup.A,\n",
    "            country_code=Country.CZE,\n",
    "            hla_typing=create_hla_typing(recipient_typing)\n",
    "        ),\n",
    "        hla_antibodies=create_antibodies([])\n",
    "    )\n",
    "    \n",
    "    score = active_scorer.score_transplant(\n",
    "        donor=donor,\n",
    "        recipient=recipient,\n",
    "        original_donor=None\n",
    "    )\n",
    "    \n",
    "    return score\n",
    "\n",
    "df_scored = df_survival_summary #.iloc[61:62]\n",
    "df_scored['score'] = df_scored.apply(row_to_score, axis=1)"
   ]
  },
  {
   "cell_type": "markdown",
   "metadata": {},
   "source": [
    "### Score distribution"
   ]
  },
  {
   "cell_type": "code",
   "execution_count": null,
   "metadata": {},
   "outputs": [],
   "source": [
    "df_scored_filtered = df_scored[df_scored.score.notnull()]\n",
    "df_scored_filtered.score.hist(bins=26)"
   ]
  },
  {
   "cell_type": "markdown",
   "metadata": {},
   "source": [
    "### Delay distribution on ended patients"
   ]
  },
  {
   "cell_type": "code",
   "execution_count": null,
   "metadata": {},
   "outputs": [],
   "source": [
    "df_scored_ended = df_scored_filtered[df_scored_filtered.EndDate.notnull()]\n",
    "print(len(df_scored_ended.index))\n",
    "df_scored_ended.delay.hist()"
   ]
  },
  {
   "cell_type": "markdown",
   "metadata": {},
   "source": [
    "### Score distribution on ended patients"
   ]
  },
  {
   "cell_type": "code",
   "execution_count": null,
   "metadata": {},
   "outputs": [],
   "source": [
    "df_scored_ended.score.hist(bins=26)"
   ]
  },
  {
   "cell_type": "markdown",
   "metadata": {},
   "source": [
    "### Score distribution on ended patients with delay < 10 years"
   ]
  },
  {
   "cell_type": "code",
   "execution_count": null,
   "metadata": {},
   "outputs": [],
   "source": [
    "df_scored_ended[df_scored_ended.delay<3650].score.hist(bins=26)"
   ]
  },
  {
   "cell_type": "markdown",
   "metadata": {},
   "source": [
    "### Dependency between delay and score on ended patients"
   ]
  },
  {
   "cell_type": "code",
   "execution_count": null,
   "metadata": {},
   "outputs": [],
   "source": [
    "df_scored_ended.plot.scatter(x='delay', y='score')"
   ]
  },
  {
   "cell_type": "code",
   "execution_count": null,
   "metadata": {},
   "outputs": [],
   "source": [
    "df_scored_ended.score.corr(df_scored_ended.delay)"
   ]
  },
  {
   "cell_type": "markdown",
   "metadata": {},
   "source": [
    "### Ended patients with the smalles delay"
   ]
  },
  {
   "cell_type": "code",
   "execution_count": null,
   "metadata": {},
   "outputs": [],
   "source": [
    "df_scored_ended.sort_values(by='delay', ascending=True).head()"
   ]
  }
 ],
 "metadata": {
  "kernelspec": {
   "display_name": "TXM new",
   "language": "python",
   "name": "txmatching"
  },
  "language_info": {
   "codemirror_mode": {
    "name": "ipython",
    "version": 3
   },
   "file_extension": ".py",
   "mimetype": "text/x-python",
   "name": "python",
   "nbconvert_exporter": "python",
   "pygments_lexer": "ipython3",
   "version": "3.8.3"
  }
 },
 "nbformat": 4,
 "nbformat_minor": 2
}
