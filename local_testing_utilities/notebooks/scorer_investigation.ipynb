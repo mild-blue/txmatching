{
 "cells": [
  {
   "cell_type": "markdown",
   "metadata": {},
   "source": [
    "# Run scorer on old data\n",
    "\n",
    "Please use `old_data_investigation` notebook to export all required data."
   ]
  },
  {
   "cell_type": "markdown",
   "metadata": {},
   "source": [
    "## Imports"
   ]
  },
  {
   "cell_type": "code",
   "execution_count": null,
   "metadata": {},
   "outputs": [],
   "source": [
    "import pandas as pd\n",
    "import os\n",
    "import re\n",
    "import numpy as np\n",
    "import sys\n",
    "import math\n",
    "import logging"
   ]
  },
  {
   "cell_type": "code",
   "execution_count": null,
   "metadata": {},
   "outputs": [],
   "source": [
    "sys.path.insert(0, \"../..\")\n",
    "\n",
    "from local_testing_utilities.notebook_utils.survival_data import parse_survival_data\n",
    "\n",
    "from txmatching.scorers.split_hla_additive_scorer import SplitScorer\n",
    "from txmatching.scorers.high_res_hla_additive_scorer import HighResScorer\n",
    "from txmatching.scorers.high_res_other_hla_types_additive_scorer import \\\n",
    "    HighResWithDQDPScorer\n",
    "\n",
    "from txmatching.utils.blood_groups import BloodGroup\n",
    "from txmatching.utils.country_enum import Country\n",
    "\n",
    "from txmatching.patients.patient import Donor, Recipient\n",
    "from txmatching.patients.patient_parameters import PatientParameters\n",
    "\n",
    "from tests.test_utilities.hla_preparation_utils import (create_antibodies,\n",
    "                                                        create_hla_typing)\n",
    "\n",
    "from tests.test_utilities.prepare_app_for_tests import DbTests"
   ]
  },
  {
   "cell_type": "markdown",
   "metadata": {},
   "source": [
    "## Load data"
   ]
  },
  {
   "cell_type": "code",
   "execution_count": null,
   "metadata": {},
   "outputs": [],
   "source": [
    "df_survival = parse_survival_data('data/LD_kidney_survival_with_donor_params.csv')\n",
    "df_survival.tail()"
   ]
  },
  {
   "cell_type": "code",
   "execution_count": null,
   "metadata": {},
   "outputs": [],
   "source": [
    "df_survival.count()"
   ]
  },
  {
   "cell_type": "markdown",
   "metadata": {},
   "source": [
    "## Compute KDRI"
   ]
  },
  {
   "cell_type": "markdown",
   "metadata": {},
   "source": [
    "### Convert EGFR to proper units ml/min/1.73m2"
   ]
  },
  {
   "cell_type": "code",
   "execution_count": null,
   "metadata": {},
   "outputs": [],
   "source": [
    "# odhadne tělesný povrch\n",
    "# https://cs.wikiversity.org/wiki/Odhad_t%C4%9Blesn%C3%A9ho_povrchu_a_v%C3%BDpo%C4%8Det_BMI\n",
    "# m - kg\n",
    "# h - cm\n",
    "# return - m2\n",
    "def estimate_bsa(m, h):\n",
    "    return 71.84 * m**0.425 * h**0.725 / 10**4\n",
    "\n",
    "estimate_bsa(75, 180)"
   ]
  },
  {
   "cell_type": "code",
   "execution_count": null,
   "metadata": {},
   "outputs": [],
   "source": [
    "# eGFR ml/s -> ml/min/1.73m2\n",
    "def convert_egfr(egfr, m, h):\n",
    "    return egfr * 60 / (estimate_bsa(m, h) / 1.73)\n",
    "\n",
    "df_survival['Donor_EGFR2'] = convert_egfr(df_survival['Donor_EGFR'], df_survival['Donor_Weight'], df_survival['Donor_Height'])"
   ]
  },
  {
   "cell_type": "markdown",
   "metadata": {},
   "source": [
    "### Compute creatitin from eGFR"
   ]
  },
  {
   "cell_type": "code",
   "execution_count": null,
   "metadata": {},
   "outputs": [],
   "source": [
    "# Creatinine micromol/L\n",
    "# eGFR ml/min/1.73m2\n",
    "def compute_egfr(creatine, age, female, black):\n",
    "    return 186 * (creatine/88.4)**-1.154 * age**-0.203 * (0.742 if female else 1) * (1.210 if black else 1)\n",
    "\n",
    "# Test according to https://ukidney.com/nephrology-resources/egfr-calculator\n",
    "egfr = compute_egfr(80, 40, True, False)\n",
    "egfr"
   ]
  },
  {
   "cell_type": "code",
   "execution_count": null,
   "metadata": {},
   "outputs": [],
   "source": [
    "# Creatinine micromol/L\n",
    "# eGFR ml/min/1.73m2\n",
    "def compute_crea(egfr, age, female, black):\n",
    "    return (\n",
    "        (186 * age**-0.203 * (0.742 if female else 1) * (1.210 if black else 1)) / egfr\n",
    "    ) ** (1/1.154) * 88.4\n",
    "\n",
    "compute_crea(egfr, 40, True, False)"
   ]
  },
  {
   "cell_type": "code",
   "execution_count": null,
   "metadata": {},
   "outputs": [],
   "source": [
    "# Convert from micromol/L to mg/dL\n",
    "def convert_crea(crea):\n",
    "    M = 113.12 # creatinin molar mass (g/mol)\n",
    "    return crea * M / 10000\n",
    "\n",
    "convert_crea(80)"
   ]
  },
  {
   "cell_type": "code",
   "execution_count": null,
   "metadata": {},
   "outputs": [],
   "source": [
    "df_survival['Donor_Crea'] = df_survival.apply(lambda row: convert_crea(compute_crea(row['Donor_EGFR2'], row['Donor_AgeAtTx'], row['Donor_Sex'] == 'F', 1)), axis=1)"
   ]
  },
  {
   "cell_type": "markdown",
   "metadata": {},
   "source": [
    "### Compute KDRI"
   ]
  },
  {
   "cell_type": "code",
   "execution_count": null,
   "metadata": {},
   "outputs": [],
   "source": [
    "# Creatine mg/dL\n",
    "def compute_kdri(age, height, weight, hypertension, diabetes, stroke, crea, HCV, DCD):\n",
    "    x_beta = (0.0128 * (age - 40) - 0.0194*(age-18)*(age<18) + 0.0107*(age-50)*(age>50)\n",
    "               - 0.0464*(height-170)/10 - 0.0199*(weight-80)/5*(weight<80)\n",
    "               + 0.126*hypertension + 0.13*diabetes + 0.0881*stroke\n",
    "               + 0.22*(crea-1) - 0.209*(crea-1.5)*(crea>1.5)\n",
    "               + 0.24*HCV + 0.133*DCD\n",
    "              )\n",
    "    return np.exp(x_beta)\n",
    "\n",
    "# Test according to https://www.ncbi.nlm.nih.gov/pmc/articles/PMC6522334/\n",
    "print(compute_kdri(30, 175, 85, 0, 0, 0, 0.8, 0, 0))\n",
    "print(compute_kdri(60, 183, 85, 0, 1, 0, 2.0, 0, 0))"
   ]
  },
  {
   "cell_type": "code",
   "execution_count": null,
   "metadata": {},
   "outputs": [],
   "source": [
    "df_survival['Donor_KDRI'] = compute_kdri(df_survival['Donor_AgeAtTx'], df_survival['Donor_Height'], df_survival['Donor_Weight'], 0, 0, 0, df_survival['Donor_Crea'], 0, 0)\n",
    "df_survival['Donor_Simple_KDRI'] = compute_kdri(df_survival['Donor_AgeAtTx'], 170, 85, 0, 0, 0, 1, 0, 0)"
   ]
  },
  {
   "cell_type": "code",
   "execution_count": null,
   "metadata": {},
   "outputs": [],
   "source": [
    "# df_survival.Donor_EGFR2.hist()"
   ]
  },
  {
   "cell_type": "code",
   "execution_count": null,
   "metadata": {},
   "outputs": [],
   "source": [
    "# df_survival[['Donor_EGFR', 'Donor_EGFR2', 'Donor_Crea', 'Donor_KDRI']].hist(figsize=(20, 10), bins=50)"
   ]
  },
  {
   "cell_type": "markdown",
   "metadata": {},
   "source": [
    "## Compute score"
   ]
  },
  {
   "cell_type": "code",
   "execution_count": null,
   "metadata": {},
   "outputs": [],
   "source": [
    "# Initialize db\n",
    "try:\n",
    "    test = DbTests()\n",
    "    test.setUp()\n",
    "except:\n",
    "    print(\"Db already initialized\")\n",
    "    pass"
   ]
  },
  {
   "cell_type": "code",
   "execution_count": null,
   "metadata": {},
   "outputs": [],
   "source": [
    "# test.tearDown()"
   ]
  },
  {
   "cell_type": "code",
   "execution_count": null,
   "metadata": {},
   "outputs": [],
   "source": [
    "logger = logging.getLogger()\n",
    "logger.setLevel('WARN')"
   ]
  },
  {
   "cell_type": "code",
   "execution_count": null,
   "metadata": {},
   "outputs": [],
   "source": [
    "def row_to_score(row, scorer):\n",
    "    donor_typization = row.donor_typization\n",
    "    recipient_typization = row.recipient_typization\n",
    "    \n",
    "    if donor_typization == '' or recipient_typization == '':\n",
    "        return None\n",
    "    \n",
    "    donor_typing = donor_typization.split(\" \")\n",
    "    recipient_typing = recipient_typization.split(\" \")\n",
    "    \n",
    "    donor = Donor(\n",
    "        db_id=-1,\n",
    "        medical_id='donor',\n",
    "        related_recipient_db_id=1,\n",
    "        parameters=PatientParameters(\n",
    "            blood_group=BloodGroup.A,\n",
    "            country_code=Country.CZE,\n",
    "            hla_typing=create_hla_typing(\n",
    "                donor_typing\n",
    "            )\n",
    "        )\n",
    "    )\n",
    "    \n",
    "    recipient = Recipient(\n",
    "        db_id=1,\n",
    "        acceptable_blood_groups=[],\n",
    "        related_donor_db_id=1,\n",
    "        medical_id='recipient',\n",
    "        parameters=PatientParameters(\n",
    "            blood_group=BloodGroup.A,\n",
    "            country_code=Country.CZE,\n",
    "            hla_typing=create_hla_typing(recipient_typing)\n",
    "        ),\n",
    "        hla_antibodies=create_antibodies([])\n",
    "    )\n",
    "    \n",
    "    score = scorer.score_transplant(\n",
    "        donor=donor,\n",
    "        recipient=recipient,\n",
    "        original_donor=None\n",
    "    )\n",
    "    \n",
    "    return score"
   ]
  },
  {
   "cell_type": "code",
   "execution_count": null,
   "metadata": {},
   "outputs": [],
   "source": [
    "# Select scorer that will be used\n",
    "split_scorer = SplitScorer()\n",
    "high_res_scorer = HighResScorer()\n",
    "high_res_other_hla_types_scorer = HighResWithDQDPScorer()"
   ]
  },
  {
   "cell_type": "code",
   "execution_count": null,
   "metadata": {},
   "outputs": [],
   "source": [
    "df_survival['split_score'] = df_survival.apply(lambda row: row_to_score(row, split_scorer), axis=1)\n",
    "df_survival['high_res_score'] = df_survival.apply(lambda row: row_to_score(row, high_res_scorer), axis=1)\n",
    "df_survival['high_res_2_score'] = df_survival.apply(lambda row: row_to_score(row, high_res_other_hla_types_scorer), axis=1)"
   ]
  },
  {
   "cell_type": "markdown",
   "metadata": {},
   "source": [
    "## Export anonymized data"
   ]
  },
  {
   "cell_type": "code",
   "execution_count": null,
   "metadata": {},
   "outputs": [],
   "source": [
    "from datetime import timedelta\n",
    "\n",
    "date_shift = -np.abs(np.random.normal(loc=0.0, scale=1.0, size=len(df_survival))) * timedelta(days=360) - timedelta(days=180)\n",
    "\n",
    "df_anon = pd.DataFrame({\n",
    "    'start_date': (df_survival['StartDate'] + date_shift - np.abs(np.random.normal(loc=0.0, scale=1.0, size=len(df_survival))) * timedelta(days=180)).dt.round('d'),\n",
    "    'last_visit_date': (df_survival['LastVisitDate'] + date_shift).dt.round('d'),\n",
    "    'end_date': (df_survival['EndDate'] + date_shift).dt.round('d'),\n",
    "    'end_reason': df_survival['EndReason'],\n",
    "    'donor_risk_index_simple': df_survival['Donor_Simple_KDRI'].round(4),\n",
    "    'donor_risk_index_advanced': df_survival['Donor_KDRI'].round(4),\n",
    "    'transplant_split_score': df_survival['split_score'].round(4),\n",
    "    'transplant_high_res_score': df_survival['high_res_score'].round(4)\n",
    "}).sort_values(by='start_date').reset_index(drop=True)\n",
    "\n",
    "df_anon.to_csv('data/kidney_survival_with_score_anon.csv')\n",
    "df_anon"
   ]
  },
  {
   "cell_type": "markdown",
   "metadata": {},
   "source": [
    "## Results"
   ]
  },
  {
   "cell_type": "code",
   "execution_count": null,
   "metadata": {},
   "outputs": [],
   "source": [
    "df_survival['Donor_Is_Female'] = df_survival['Donor_Sex'].apply(lambda sex: 1 if sex == 'F' else 0 if sex == 'M' else None)\n",
    "# df_survival"
   ]
  },
  {
   "cell_type": "code",
   "execution_count": null,
   "metadata": {},
   "outputs": [],
   "source": [
    "result_cols = [\n",
    "    'split_score', 'high_res_score', 'high_res_2_score',\n",
    "    'Donor_EGFR', 'Donor_EGFR2', 'Donor_Crea', 'Donor_Simple_KDRI', 'Donor_KDRI', 'Donor_AgeAtTx' , 'Donor_Is_Female'\n",
    "]"
   ]
  },
  {
   "cell_type": "markdown",
   "metadata": {},
   "source": [
    "### Delay distribution on ended patients"
   ]
  },
  {
   "cell_type": "code",
   "execution_count": null,
   "metadata": {},
   "outputs": [],
   "source": [
    "#df_survival_ended = df_survival_filtered[df_survival_filtered.EndDate.notnull()]\n",
    "df_survival_ended = df_survival[df_survival.EndDate.notnull()]\n",
    "print(len(df_survival_ended.index))\n",
    "df_survival_ended.delay.hist()"
   ]
  },
  {
   "cell_type": "markdown",
   "metadata": {},
   "source": [
    "### Distribution"
   ]
  },
  {
   "cell_type": "code",
   "execution_count": null,
   "metadata": {},
   "outputs": [],
   "source": [
    "df_survival[result_cols].hist(figsize=(20, 15))"
   ]
  },
  {
   "cell_type": "markdown",
   "metadata": {},
   "source": [
    "### Score distribution on ended patients"
   ]
  },
  {
   "cell_type": "code",
   "execution_count": null,
   "metadata": {},
   "outputs": [],
   "source": [
    "df_survival_ended[result_cols].hist(bins=26, figsize=(20, 15))"
   ]
  },
  {
   "cell_type": "markdown",
   "metadata": {},
   "source": [
    "### Score distribution on ended patients with delay < 10 years"
   ]
  },
  {
   "cell_type": "code",
   "execution_count": null,
   "metadata": {},
   "outputs": [],
   "source": [
    "df_survival_ended[df_survival_ended.delay<3650][result_cols].hist(bins=26, figsize=(20, 15))"
   ]
  },
  {
   "cell_type": "markdown",
   "metadata": {},
   "source": [
    "### Dependency between delay and score on ended patients"
   ]
  },
  {
   "cell_type": "code",
   "execution_count": null,
   "metadata": {},
   "outputs": [],
   "source": [
    "for col in result_cols:\n",
    "    corr = df_survival_ended[col].corr(df_survival_ended.delay)\n",
    "    df_survival_ended.plot.scatter(x='delay', y=col, title=f\"corr = {corr:.4f}\")"
   ]
  },
  {
   "cell_type": "markdown",
   "metadata": {},
   "source": [
    "### Ended patients with the smalles delay"
   ]
  },
  {
   "cell_type": "code",
   "execution_count": null,
   "metadata": {},
   "outputs": [],
   "source": [
    "df_survival_ended.sort_values(by='delay', ascending=True).head()"
   ]
  }
 ],
 "metadata": {
  "kernelspec": {
   "display_name": "TXM new",
   "language": "python",
   "name": "txmatching"
  },
  "language_info": {
   "codemirror_mode": {
    "name": "ipython",
    "version": 3
   },
   "file_extension": ".py",
   "mimetype": "text/x-python",
   "name": "python",
   "nbconvert_exporter": "python",
   "pygments_lexer": "ipython3",
   "version": "3.8.3"
  }
 },
 "nbformat": 4,
 "nbformat_minor": 2
}
