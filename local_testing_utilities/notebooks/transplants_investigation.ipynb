{
 "cells": [
  {
   "cell_type": "markdown",
   "metadata": {},
   "source": [
    "## Imports"
   ]
  },
  {
   "cell_type": "code",
   "execution_count": null,
   "metadata": {},
   "outputs": [],
   "source": [
    "import pandas as pd\n",
    "import os\n",
    "from typing import List\n",
    "import re\n",
    "import numpy as np\n",
    "import sys\n",
    "import math\n",
    "import time\n",
    "import logging"
   ]
  },
  {
   "cell_type": "code",
   "execution_count": null,
   "metadata": {},
   "outputs": [],
   "source": [
    "sys.path.insert(0, \"../..\")\n",
    "\n",
    "from local_testing_utilities.notebook_utils.pairing_data import parse_pairing_data\n",
    "from local_testing_utilities.notebook_utils.survival_data import parse_survival_data"
   ]
  },
  {
   "cell_type": "markdown",
   "metadata": {},
   "source": [
    "## Load data"
   ]
  },
  {
   "cell_type": "code",
   "execution_count": null,
   "metadata": {},
   "outputs": [],
   "source": [
    "df_all_patients = parse_pairing_data('data/KDP-processed', 'data/patients_list_recipientID.csv', remove_single_donors=False)"
   ]
  },
  {
   "cell_type": "code",
   "execution_count": null,
   "metadata": {},
   "outputs": [],
   "source": [
    "df_survival = parse_survival_data('data/LD_kidney_survival.csv')\n",
    "df_survival_summary = df_survival[['RecipientID', 'StartDate', 'LastVisitDate', 'EndDate', 'delay', 'EndReason', 'NoVisits', 'donor_typization', 'recipient_typization']]"
   ]
  },
  {
   "cell_type": "code",
   "execution_count": null,
   "metadata": {},
   "outputs": [],
   "source": [
    "df_patients_with_recipient_id = pd.read_csv('data/patients_list_recipientID.csv')"
   ]
  },
  {
   "cell_type": "markdown",
   "metadata": {},
   "source": [
    "### Patients that were seen in given event but were not seen in next event"
   ]
  },
  {
   "cell_type": "markdown",
   "metadata": {},
   "source": [
    "#### Recipients"
   ]
  },
  {
   "cell_type": "code",
   "execution_count": null,
   "metadata": {},
   "outputs": [],
   "source": [
    "df_recipients_last_event = df_all_patients.loc[\n",
    "    df_all_patients.apply(\n",
    "        lambda row1:\n",
    "        not df_all_patients.apply(\n",
    "            lambda row2:\n",
    "            row1.txm_event + 1 == row2.txm_event and \\\n",
    "            row1.recipient_name == row2.recipient_name,\n",
    "            axis=1\n",
    "        ).any() and \\\n",
    "        row1.recipient_name != '',\n",
    "        axis=1\n",
    "    )\n",
    "]\n",
    "print(len(df_recipients_last_event.index))\n",
    "#df_recipients_last_event.head()"
   ]
  },
  {
   "cell_type": "markdown",
   "metadata": {},
   "source": [
    "#### Donors"
   ]
  },
  {
   "cell_type": "code",
   "execution_count": null,
   "metadata": {},
   "outputs": [],
   "source": [
    "df_donors_last_event = df_all_patients.loc[\n",
    "    df_all_patients.apply(\n",
    "        lambda row1:\n",
    "        not df_all_patients.apply(\n",
    "            lambda row2:\n",
    "            row1.txm_event + 1 == row2.txm_event and \\\n",
    "            row1.donor_name == row2.donor_name,\n",
    "            axis=1\n",
    "        ).any(),\n",
    "        axis=1\n",
    "    )\n",
    "]\n",
    "print(len(df_donors_last_event.index))\n",
    "#df_donors_last_event.head()"
   ]
  },
  {
   "cell_type": "markdown",
   "metadata": {},
   "source": [
    "How many patients were seen in given event but was not seen in next event"
   ]
  },
  {
   "cell_type": "code",
   "execution_count": null,
   "metadata": {},
   "outputs": [],
   "source": [
    "df_recipients_last_event.groupby('txm_event').count()[['recipient_name']].join(\n",
    "    df_donors_last_event.groupby('txm_event').count()[['donor_name']]\n",
    ").plot()"
   ]
  },
  {
   "cell_type": "markdown",
   "metadata": {},
   "source": [
    "## Donors that ended in given txm event"
   ]
  },
  {
   "cell_type": "code",
   "execution_count": null,
   "metadata": {},
   "outputs": [],
   "source": [
    "txm_event = 24"
   ]
  },
  {
   "cell_type": "code",
   "execution_count": null,
   "metadata": {},
   "outputs": [],
   "source": [
    "df_donors_last_event.loc[lambda df: df.txm_event == txm_event]\\\n",
    "    [['txm_event', 'donor_name', 'donor_typization', 'recipient_name']]\\\n",
    "    .assign(typization_substr=lambda df: df.donor_typization.str[:6])"
   ]
  },
  {
   "cell_type": "markdown",
   "metadata": {},
   "source": [
    "### Join patients last events with survival data"
   ]
  },
  {
   "cell_type": "markdown",
   "metadata": {},
   "source": [
    "#### Recipients"
   ]
  },
  {
   "cell_type": "code",
   "execution_count": null,
   "metadata": {},
   "outputs": [],
   "source": [
    "df_recipients_last_event_with_surv = df_recipients_last_event.join(df_survival_summary.set_index('RecipientID'), on='recipient_id', rsuffix='_surv')\n",
    "#df_recipients_last_event_with_surv"
   ]
  },
  {
   "cell_type": "markdown",
   "metadata": {},
   "source": [
    "#### Donors"
   ]
  },
  {
   "cell_type": "markdown",
   "metadata": {},
   "source": [
    "##### Transplants in the given txm event"
   ]
  },
  {
   "cell_type": "code",
   "execution_count": null,
   "metadata": {},
   "outputs": [],
   "source": [
    "df_recipients_last_event_with_surv\\\n",
    "    .loc[lambda df: df.delay.notnull()]\\\n",
    "    .loc[lambda df: df.txm_event == txm_event]\\\n",
    "    [['txm_event', 'donor_typization_surv', 'recipient_id']]\\\n",
    "    .assign(typization_substr=lambda df: df.donor_typization_surv.str[:6])\\\n",
    "    .join(a.set_index(['txm_event', 'typization_substr']), on=['txm_event', 'typization_substr'])"
   ]
  },
  {
   "cell_type": "code",
   "execution_count": null,
   "metadata": {},
   "outputs": [],
   "source": [
    "df_recipients_last_event_with_surv\\\n",
    "    .loc[lambda df: df.delay.notnull()]\\\n",
    "    [['txm_event', 'donor_typization_surv', 'recipient_id']]\\\n",
    "    .assign(typization_substr=lambda df: df.donor_typization_surv.str[:6])\\\n",
    "    .join(\n",
    "        df_donors_last_event\\\n",
    "        [['txm_event', 'donor_name', 'donor_typization', 'recipient_name']]\\\n",
    "        .assign(typization_substr=lambda df: df.donor_typization.str[:6])\\\n",
    "        .set_index(['txm_event', 'typization_substr']),\n",
    "        on=['txm_event', 'typization_substr']\n",
    "    ).to_csv('data/transplanted_donors_draft.csv')"
   ]
  },
  {
   "cell_type": "markdown",
   "metadata": {},
   "source": [
    "I modified the output by hand resulting to `transplanted_donorx.xlsx`, which contains donor to its transplant mapping"
   ]
  },
  {
   "cell_type": "code",
   "execution_count": null,
   "metadata": {},
   "outputs": [],
   "source": [
    "df_transplanted_donors = pd.read_excel('data/transplanted_donors.xlsx', index_col=None)\n",
    "df_transplanted_donors.head()"
   ]
  },
  {
   "cell_type": "code",
   "execution_count": null,
   "metadata": {},
   "outputs": [],
   "source": [
    "df_donors_last_event_with_surv = df_donors_last_event\\\n",
    "    .join(df_transplanted_donors.set_index('donor_name')['target_recipient_id'], on='donor_name')\\\n",
    "    .join(df_survival_summary.set_index('RecipientID'), on='target_recipient_id', rsuffix='_surv')\n",
    "#df_donors_last_event_with_surv.head()"
   ]
  },
  {
   "cell_type": "markdown",
   "metadata": {},
   "source": [
    "#### Plot"
   ]
  },
  {
   "cell_type": "code",
   "execution_count": null,
   "metadata": {},
   "outputs": [],
   "source": [
    "df_recipients_last_event_with_surv.groupby('txm_event').count()\\\n",
    "    .join(df_donors_last_event_with_surv.groupby('txm_event').count(), rsuffix='_donors')\\\n",
    "    .apply(lambda row: pd.Series(\n",
    "    {\n",
    "        'Recipients ended': row.recipient_name,\n",
    "        'Recipients ended with transplant found': row.delay,\n",
    "        'Recipients ended without transplant': row.recipient_name - row.delay,\n",
    "        'Donors ended': row.donor_name_donors,\n",
    "        'Donors ended with transplant found': row.delay_donors,\n",
    "        'Donors ended without transplant': row.donor_name_donors - row.delay_donors\n",
    "    }), axis=1)\\\n",
    "    .plot(\n",
    "        style=['b-','g-','r-', 'b--','g--','r--'],\n",
    "        title='Number of patients that were lastly seen in the given txm event versus those that were mapped to transplant date',\n",
    "        figsize=(14, 7)\n",
    "    )"
   ]
  },
  {
   "cell_type": "code",
   "execution_count": null,
   "metadata": {},
   "outputs": [],
   "source": [
    "df_recipients_last_event_with_surv.plot(x='txm_event', y='StartDate', style=\".\", figsize=(10, 4), \n",
    "                                      title='Transplant dates for recipients that was lastly seen in th given txm event')\n",
    "df_donors_last_event_with_surv.plot(x='txm_event', y='StartDate', style=\".\", figsize=(10, 4), \n",
    "                                      title='Transplant dates for donors that was lastly seen in th given txm event')"
   ]
  },
  {
   "cell_type": "markdown",
   "metadata": {},
   "source": [
    "### Join last seen patients with their summary"
   ]
  },
  {
   "cell_type": "code",
   "execution_count": null,
   "metadata": {},
   "outputs": [],
   "source": [
    "df_recipient_to_event_list = df_all_patients.groupby(\n",
    "    ['recipient_id']\n",
    ")[['txm_event']].agg(lambda x: \",\".join([str(i) for i in x]))\n",
    "\n",
    "#df_recipient_to_event_list.reset_index().loc[lambda df: df.recipient_id == 1179062.0]"
   ]
  },
  {
   "cell_type": "code",
   "execution_count": null,
   "metadata": {},
   "outputs": [],
   "source": [
    "df_donor_to_event_list = df_all_patients.groupby(\n",
    "    ['donor_name']\n",
    ")[['txm_event']].agg(lambda x: \",\".join([str(i) for i in x]))\n",
    "\n",
    "#df_donor_to_event_list.reset_index().loc[lambda df: df.donor_name == \"Holubová Věra\"]"
   ]
  },
  {
   "cell_type": "code",
   "execution_count": null,
   "metadata": {},
   "outputs": [],
   "source": [
    "#df_recipient_to_event_list"
   ]
  },
  {
   "cell_type": "code",
   "execution_count": null,
   "metadata": {},
   "outputs": [],
   "source": [
    "#df_recipients_last_event_with_surv[['txm_event', 'recipient_id', 'delay']]"
   ]
  },
  {
   "cell_type": "code",
   "execution_count": null,
   "metadata": {},
   "outputs": [],
   "source": [
    "df_patient_to_survival_summary = df_survival_summary.set_index('RecipientID')"
   ]
  },
  {
   "cell_type": "code",
   "execution_count": null,
   "metadata": {},
   "outputs": [],
   "source": [
    "df_recipients_last_event_with_info = df_recipients_last_event[['txm_event', 'recipient_id']]\\\n",
    "    .join(df_patients_with_recipient_id.set_index('recipient_id'), on='recipient_id')\\\n",
    "    .join(df_recipient_to_event_list, on='recipient_id', rsuffix=\"_1\")\\\n",
    "    .join(df_patient_to_survival_summary, on='recipient_id', rsuffix=\"_2\")"
   ]
  },
  {
   "cell_type": "code",
   "execution_count": null,
   "metadata": {},
   "outputs": [],
   "source": [
    "df_recipients_last_event_with_info"
   ]
  },
  {
   "cell_type": "markdown",
   "metadata": {},
   "source": [
    "Export"
   ]
  },
  {
   "cell_type": "code",
   "execution_count": null,
   "metadata": {},
   "outputs": [],
   "source": [
    "#df_recipients_last_event_with_info.\\\n",
    "#    loc[lambda r: r.StartDate.isnull()]\\\n",
    "#    [['txm_event', 'recipient_id', 'recipient_name', 'recipient_year_of_birth', 'txm_event_1']]\\\n",
    "#    .to_csv('data/ended_patients_without_transplant.csv', index=False)"
   ]
  },
  {
   "cell_type": "markdown",
   "metadata": {},
   "source": [
    "List patients that were not found in next event but were not transplanted:"
   ]
  },
  {
   "cell_type": "code",
   "execution_count": null,
   "metadata": {},
   "outputs": [],
   "source": [
    "# df_recipients_last_event_with_info.loc[lambda r: r.StartDate.isnull()]"
   ]
  },
  {
   "cell_type": "markdown",
   "metadata": {},
   "source": [
    "Namátkově jsem porovnal pacienty co v párování skončili s xls sheety s konečnými variantami. Pro každý event ti pacienti, pro které jsme našli survival data (byli transplantování) odpovídají těm ze sheetu s konečnými variantami plus pář transplantacím s originálním donorem."
   ]
  }
 ],
 "metadata": {
  "kernelspec": {
   "display_name": "TXM new",
   "language": "python",
   "name": "txmatching"
  },
  "language_info": {
   "codemirror_mode": {
    "name": "ipython",
    "version": 3
   },
   "file_extension": ".py",
   "mimetype": "text/x-python",
   "name": "python",
   "nbconvert_exporter": "python",
   "pygments_lexer": "ipython3",
   "version": "3.8.3"
  }
 },
 "nbformat": 4,
 "nbformat_minor": 2
}
