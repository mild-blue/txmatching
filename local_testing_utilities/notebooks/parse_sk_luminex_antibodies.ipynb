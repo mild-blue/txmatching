{
 "cells": [
  {
   "cell_type": "code",
   "execution_count": null,
   "metadata": {},
   "outputs": [],
   "source": [
    "import json\n",
    "import pandas as pd"
   ]
  },
  {
   "cell_type": "code",
   "execution_count": null,
   "metadata": {},
   "outputs": [],
   "source": [
    "patients_luminex_files = ['xxx1.xls',\n",
    "                          'xxx2.xls']\n",
    "N_ROWS_TO_SKIP = 10\n",
    "\n",
    "DB_ID = None\n",
    "ETAG = None"
   ]
  },
  {
   "cell_type": "markdown",
   "metadata": {},
   "source": [
    "# Parse data from luminex to antibodies list"
   ]
  },
  {
   "cell_type": "code",
   "execution_count": null,
   "metadata": {},
   "outputs": [],
   "source": [
    "hla_antibodies_list = []\n",
    "for luminex_file in patients_luminex_files:\n",
    "    df = pd.read_excel(luminex_file, skiprows=N_ROWS_TO_SKIP)\n",
    "    df = df.iloc[:, [15, 35]]\n",
    "    df.columns = ['mfi', 'code']\n",
    "    df = df.dropna()\n",
    "\n",
    "    for _, row in df.iterrows():\n",
    "        antibodies = [c.strip() for c in row.code.split(',') if '-' not in c]\n",
    "        if len(antibodies) == 1:\n",
    "            hla_antibodies_list.append({'raw_code': antibodies[0], 'mfi': int(row.mfi)})\n",
    "        elif len(antibodies) == 2:\n",
    "            raw_code = antibodies[0][:2]\n",
    "            raw_code += f'[{antibodies[0].split(\"*\")[1]},{antibodies[1].split(\"*\")[1]}]'\n",
    "            hla_antibodies_list.append({'raw_code': raw_code, 'mfi': int(row.mfi)})\n",
    "        else:\n",
    "            raise AssertionError('Expecting one or two raw codes specified in each row of luminex data.')"
   ]
  },
  {
   "cell_type": "markdown",
   "metadata": {},
   "source": [
    "# Create json to update the patient"
   ]
  },
  {
   "cell_type": "code",
   "execution_count": null,
   "metadata": {},
   "outputs": [],
   "source": [
    "update_patient_dict = {'db_id': DB_ID, 'etag': ETAG, 'hla_antibodies': {'hla_antibodies_list': hla_antibodies_list}}\n",
    "with open(f\"../update_patient_{DB_ID}.json\", \"w\") as file:\n",
    "    json.dump(update_patient_dict, file)"
   ]
  },
  {
   "cell_type": "code",
   "execution_count": null,
   "metadata": {},
   "outputs": [],
   "source": []
  }
 ],
 "metadata": {
  "kernelspec": {
   "display_name": "Python 3",
   "language": "python",
   "name": "python3"
  },
  "language_info": {
   "codemirror_mode": {
    "name": "ipython",
    "version": 2
   },
   "file_extension": ".py",
   "mimetype": "text/x-python",
   "name": "python",
   "nbconvert_exporter": "python",
   "pygments_lexer": "ipython2",
   "version": "2.7.6"
  }
 },
 "nbformat": 4,
 "nbformat_minor": 0
}
