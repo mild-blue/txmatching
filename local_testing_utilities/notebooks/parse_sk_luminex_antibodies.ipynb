{
 "cells": [
  {
   "cell_type": "code",
   "execution_count": 52,
   "metadata": {
    "collapsed": true,
    "ExecuteTime": {
     "end_time": "2023-08-16T09:05:37.536989Z",
     "start_time": "2023-08-16T09:05:37.356440Z"
    }
   },
   "outputs": [],
   "source": [
    "import json\n",
    "import pandas as pd"
   ]
  },
  {
   "cell_type": "code",
   "execution_count": 53,
   "outputs": [],
   "source": [
    "patients_luminex_files = ['xxx1.xls',\n",
    "                          'xxx2.xls']\n",
    "N_ROWS_TO_SKIP = 10\n",
    "\n",
    "DB_ID = None\n",
    "ETAG = None"
   ],
   "metadata": {
    "collapsed": false,
    "ExecuteTime": {
     "end_time": "2023-08-16T09:05:41.584909Z",
     "start_time": "2023-08-16T09:05:41.559807Z"
    }
   }
  },
  {
   "cell_type": "markdown",
   "source": [
    "# Parse data from luminex to antibodies list"
   ],
   "metadata": {
    "collapsed": false
   }
  },
  {
   "cell_type": "code",
   "execution_count": 54,
   "outputs": [],
   "source": [
    "hla_antibodies_list = []\n",
    "for luminex_file in patients_luminex_files:\n",
    "    df = pd.read_excel(luminex_file, skiprows=N_ROWS_TO_SKIP)\n",
    "    df = df.iloc[:, [15, 35]]\n",
    "    df.columns = ['mfi', 'code']\n",
    "    df = df.dropna()\n",
    "\n",
    "    for _, row in df.iterrows():\n",
    "        antibodies = [c.strip() for c in row.code.split(',') if '-' not in c]\n",
    "        if len(antibodies) == 1:\n",
    "            hla_antibodies_list.append({'raw_code': antibodies[0], 'mfi': int(row.mfi)})\n",
    "        elif len(antibodies) == 2:\n",
    "            raw_code = antibodies[0][:2]\n",
    "            raw_code += f'[{antibodies[0].split(\"*\")[1]},{antibodies[1].split(\"*\")[1]}]'\n",
    "            hla_antibodies_list.append({'raw_code': raw_code, 'mfi': int(row.mfi)})\n",
    "        else:\n",
    "            raise AssertionError('Expecting one or two raw codes specified in each row of luminex data.')"
   ],
   "metadata": {
    "collapsed": false,
    "ExecuteTime": {
     "end_time": "2023-08-16T09:05:43.455144Z",
     "start_time": "2023-08-16T09:05:43.215866Z"
    }
   }
  },
  {
   "cell_type": "markdown",
   "source": [
    "# Create json to update the patient"
   ],
   "metadata": {
    "collapsed": false
   }
  },
  {
   "cell_type": "code",
   "execution_count": 55,
   "outputs": [],
   "source": [
    "update_patient_dict = {'db_id': DB_ID, 'etag': ETAG, 'hla_antibodies': {'hla_antibodies_list': hla_antibodies_list}}\n",
    "with open(f\"../update_patient_{DB_ID}.json\", \"w\") as file:\n",
    "    json.dump(update_patient_dict, file)"
   ],
   "metadata": {
    "collapsed": false,
    "ExecuteTime": {
     "end_time": "2023-08-16T09:05:44.658596Z",
     "start_time": "2023-08-16T09:05:44.552203Z"
    }
   }
  },
  {
   "cell_type": "code",
   "execution_count": null,
   "outputs": [],
   "source": [],
   "metadata": {
    "collapsed": false
   }
  }
 ],
 "metadata": {
  "kernelspec": {
   "display_name": "Python 3",
   "language": "python",
   "name": "python3"
  },
  "language_info": {
   "codemirror_mode": {
    "name": "ipython",
    "version": 2
   },
   "file_extension": ".py",
   "mimetype": "text/x-python",
   "name": "python",
   "nbconvert_exporter": "python",
   "pygments_lexer": "ipython2",
   "version": "2.7.6"
  }
 },
 "nbformat": 4,
 "nbformat_minor": 0
}
