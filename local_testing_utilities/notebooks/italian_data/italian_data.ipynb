{
 "cells": [
  {
   "cell_type": "code",
   "execution_count": null,
   "metadata": {},
   "outputs": [],
   "source": [
    "import numpy as np\n",
    "import pandas as pd\n",
    "\n",
    "donor_csv_data = pd.read_csv('donor.csv', header=None)\n",
    "donor_data = pd.DataFrame(donor_csv_data)\n",
    "donor_data.head()"
   ]
  },
  {
   "cell_type": "code",
   "execution_count": null,
   "metadata": {},
   "outputs": [],
   "source": [
    "rec_csv_data = pd.read_csv('recipient.csv',  header=None)\n",
    "rec_data = pd.DataFrame(rec_csv_data)\n",
    "rec_data.head()"
   ]
  },
  {
   "cell_type": "code",
   "execution_count": null,
   "metadata": {},
   "outputs": [],
   "source": [
    "pairs_header = [\n",
    "    'Pair ID',\n",
    "    'Donor ID',\n",
    "    'Donor blood type',\n",
    "    'Donor age',\n",
    "    'Recipient ID',\n",
    "    'Recipient blood type',\n",
    "    'Recipient age',\n",
    "    'Acceptable blood type'\n",
    "    ]\n",
    "pairs_data = pd.DataFrame(columns=pairs_header)"
   ]
  },
  {
   "cell_type": "code",
   "execution_count": null,
   "metadata": {},
   "outputs": [],
   "source": [
    "from datetime import date\n",
    "\n",
    "def calculate_age(born):\n",
    "    year = int(born[6:])\n",
    "    month = int(born[3:5])\n",
    "    day = int(born[:2])\n",
    "    today = date.today()\n",
    "    return today.year - year - ((today.month, today.day) < (month, day))"
   ]
  },
  {
   "cell_type": "code",
   "execution_count": null,
   "metadata": {},
   "outputs": [],
   "source": [
    "# PAIRS CSV\n",
    "\n",
    "c1, c2, c3, c4, c5, c6, c7, c8 = [], [], [], [], [], [], [], []\n",
    "\n",
    "# fill in pair id, donor id\n",
    "for i in range(len(donor_data)):\n",
    "    d = donor_data.iloc[i][1]\n",
    "    c1.append(int(d))\n",
    "    c2.append(int(d))\n",
    "\n",
    "# fill in donor blood type\n",
    "for i in range(len(donor_data)):\n",
    "    d = donor_data.iloc[i][12]\n",
    "    c3.append(d)\n",
    "\n",
    "# fill in donor age\n",
    "for i in range(len(donor_data)):\n",
    "    d = donor_data.iloc[i][5]\n",
    "    c4.append(calculate_age(d))\n",
    "\n",
    "pairs_data[\"Pair ID\"] = c1\n",
    "pairs_data[\"Donor ID\"] = c2\n",
    "pairs_data[\"Donor blood type\"] = c3\n",
    "pairs_data[\"Donor age\"] = c4\n",
    "\n",
    "c5_temp, c6_temp, c7_temp, c8_temp = [], [], [], []\n",
    "\n",
    "# fill in recipient id\n",
    "for i in range(len(rec_data)):\n",
    "    d = rec_data.iloc[i][1]\n",
    "    c5_temp.append(int(d))\n",
    "\n",
    "# fill in recipient blood type\n",
    "for i in range(len(rec_data)):\n",
    "    d = rec_data.iloc[i][17]\n",
    "    c6_temp.append(d)\n",
    "\n",
    "# fill in recipient age\n",
    "for i in range(len(rec_data)):\n",
    "    d = rec_data.iloc[i][3]\n",
    "    c7_temp.append(calculate_age(d))\n",
    "\n",
    "# fill in recipient acceptable blood groups\n",
    "for i in range(len(rec_data)):\n",
    "    d = rec_data.iloc[i][16]\n",
    "    c8_temp.append(d)\n",
    "\n",
    "for i in range(len(c1)):\n",
    "    for j in range(len(c5_temp)):\n",
    "        if c1[i] == c5_temp[j]:\n",
    "            c5.append(c5_temp[j])\n",
    "            c6.append(c6_temp[j])\n",
    "            c7.append(c7_temp[j])\n",
    "            c8.append(c8_temp[j])\n",
    "\n",
    "pairs_data[\"Recipient ID\"] = c5\n",
    "pairs_data[\"Recipient blood type\"] = c6\n",
    "pairs_data[\"Recipient age\"] = c7\n",
    "pairs_data[\"Acceptable blood type\"] = c8\n",
    "\n",
    "pairs_data.head(10)\n",
    "\n",
    "pairs_data.to_csv('pairs.csv', index=False)  "
   ]
  },
  {
   "cell_type": "code",
   "execution_count": null,
   "metadata": {},
   "outputs": [],
   "source": [
    "# HLA CSV\n",
    "\n",
    "hla_header = [\n",
    "    \"Pair ID\",\n",
    "    \"Donor antigens\",\n",
    "    \"Recipient antigens\",\n",
    "    \"Recipient antibodies\"\n",
    "    ]\n",
    "\n",
    "hla_data = pd.DataFrame(columns=hla_header)"
   ]
  },
  {
   "cell_type": "code",
   "execution_count": null,
   "metadata": {},
   "outputs": [],
   "source": [
    "h1, h2, h3, h4 = c1, [], [], []\n",
    "\n",
    "# fill in donor antigens\n",
    "for i in range(len(donor_data)):\n",
    "    d = donor_data.iloc[i][11]\n",
    "    h2.append(d)\n",
    "\n",
    "h3_temp, h4_temp = [], []\n",
    "\n",
    "# fill in recipient antigens\n",
    "for i in range(len(rec_data)):\n",
    "    d = rec_data.iloc[i][14]\n",
    "    h3_temp.append(d)\n",
    "\n",
    "# fill in recipient acceptable blood groups\n",
    "for i in range(len(rec_data)):\n",
    "    d = rec_data.iloc[i][15]\n",
    "    h4_temp.append(d)\n",
    "\n",
    "\n",
    "for i in range(len(c1)):\n",
    "    for j in range(len(c5_temp)):\n",
    "        if c1[i] == c5_temp[j]:\n",
    "            h3.append(h3_temp[j])\n",
    "            h4.append(h4_temp[j])\n",
    "\n",
    "            \n",
    "hla_data[\"Pair ID\"] = h1\n",
    "hla_data[\"Donor antigens\"] = h2\n",
    "hla_data[\"Recipient antigens\"] = h3\n",
    "hla_data[\"Recipient antibodies\"] = h4\n",
    "\n",
    "hla_data.to_csv('hla.csv', index=False)  "
   ]
  },
  {
   "cell_type": "code",
   "execution_count": null,
   "metadata": {},
   "outputs": [],
   "source": []
  }
 ],
 "metadata": {
  "kernelspec": {
   "display_name": "Python 3.10.5 ('env': venv)",
   "language": "python",
   "name": "python3"
  },
  "language_info": {
   "codemirror_mode": {
    "name": "ipython",
    "version": 3
   },
   "file_extension": ".py",
   "mimetype": "text/x-python",
   "name": "python",
   "nbconvert_exporter": "python",
   "pygments_lexer": "ipython3",
   "version": "3.10.5"
  },
  "vscode": {
   "interpreter": {
    "hash": "fd5467a32470d2ace9ee3c03701f63a76df843779ce43a4d80afa71dbc31c98e"
   }
  }
 },
 "nbformat": 4,
 "nbformat_minor": 4
}
