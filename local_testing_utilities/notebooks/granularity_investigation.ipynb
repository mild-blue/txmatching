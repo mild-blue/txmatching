{
 "cells": [
  {
   "cell_type": "markdown",
   "metadata": {},
   "source": [
    "## Imports"
   ]
  },
  {
   "cell_type": "code",
   "execution_count": null,
   "metadata": {},
   "outputs": [],
   "source": [
    "import pandas as pd\n",
    "import os\n",
    "from typing import List\n",
    "import re\n",
    "import numpy as np\n",
    "import sys\n",
    "import math\n",
    "import time\n",
    "import logging"
   ]
  },
  {
   "cell_type": "code",
   "execution_count": null,
   "metadata": {},
   "outputs": [],
   "source": [
    "sys.path.insert(0, \"../..\")\n",
    "\n",
    "from local_testing_utilities.notebook_utils.pairing_data import parse_pairing_data\n",
    "from local_testing_utilities.notebook_utils.survival_data import parse_survival_data\n",
    "from txmatching.utils.blood_groups import BloodGroup\n",
    "from txmatching.utils.country_enum import Country\n",
    "from txmatching.patients.patient import Donor, Recipient\n",
    "from txmatching.patients.patient_parameters import PatientParameters\n",
    "from tests.test_utilities.hla_preparation_utils import (create_antibodies, create_antibody,\n",
    "                                                        create_hla_typing)\n",
    "from tests.test_utilities.prepare_app_for_tests import DbTests\n",
    "from txmatching.patients.patient import TxmEvent\n",
    "from txmatching.utils.enums import TxmEventState\n",
    "from txmatching.configuration.configuration import Configuration\n",
    "from txmatching.solve_service.solve_from_configuration import solve_from_configuration"
   ]
  },
  {
   "cell_type": "markdown",
   "metadata": {},
   "source": [
    "## Load data"
   ]
  },
  {
   "cell_type": "code",
   "execution_count": null,
   "metadata": {},
   "outputs": [],
   "source": [
    "df_all_patients = parse_pairing_data('data/KDP-processed', 'data/patients_list_recipientID.csv', remove_single_donors=True)"
   ]
  },
  {
   "cell_type": "code",
   "execution_count": null,
   "metadata": {},
   "outputs": [],
   "source": [
    "df_survival = parse_survival_data('data/LD_kidney_survival.csv')\n",
    "df_survival_summary = df_survival[['RecipientID', 'StartDate', 'LastVisitDate', 'EndDate', 'delay', 'EndReason', 'NoVisits', 'donor_typization', 'recipient_typization']]"
   ]
  },
  {
   "cell_type": "code",
   "execution_count": null,
   "metadata": {},
   "outputs": [],
   "source": [
    "df_patients_with_recipient_id = pd.read_csv('data/patients_list_recipientID.csv')"
   ]
  },
  {
   "cell_type": "markdown",
   "metadata": {},
   "source": [
    "### Patients that were seen in given event but were not seen in next event"
   ]
  },
  {
   "cell_type": "code",
   "execution_count": null,
   "metadata": {},
   "outputs": [],
   "source": [
    "df_patients_last_event = df_all_patients.loc[\n",
    "    df_all_patients.apply(\n",
    "        lambda row1:\n",
    "        not df_all_patients.apply(\n",
    "            lambda row2:\n",
    "            row1.txm_event + 1 == row2.txm_event and \\\n",
    "            row1.recipient_name == row2.recipient_name,\n",
    "            axis=1\n",
    "        ).any(),\n",
    "        axis=1\n",
    "    )\n",
    "]\n",
    "print(len(df_patients_last_event.index))\n",
    "df_patients_last_event.head()"
   ]
  },
  {
   "cell_type": "markdown",
   "metadata": {},
   "source": [
    "How many patients were seen in given event but was not seen in next event"
   ]
  },
  {
   "cell_type": "code",
   "execution_count": null,
   "metadata": {},
   "outputs": [],
   "source": [
    "df_patients_last_event.groupby('txm_event').count()['recipient_name'].plot()"
   ]
  },
  {
   "cell_type": "markdown",
   "metadata": {},
   "source": [
    "### Join patients last events with survival data"
   ]
  },
  {
   "cell_type": "code",
   "execution_count": null,
   "metadata": {},
   "outputs": [],
   "source": [
    "df_patients_last_event_with_surv = df_patients_last_event.join(df_survival_summary.set_index('RecipientID'), on='recipient_id', rsuffix='_surv')\n",
    "df_patients_last_event_with_surv\n",
    "\n",
    "df_patients_last_event_with_surv.groupby('txm_event').count()\\\n",
    "    .apply(lambda row: pd.Series({'ended': row.recipient_name, 'ended with transplant found': row.delay, 'ended without transplant': row.recipient_name - row.delay}), axis=1)\\\n",
    "    .plot(title='Number of patients that were lastly seen in the given txm event versus those that were mapped to transplant date', figsize=(12, 5))"
   ]
  },
  {
   "cell_type": "code",
   "execution_count": null,
   "metadata": {},
   "outputs": [],
   "source": [
    "df_patients_last_event_with_surv.plot(x='txm_event', y='StartDate', style=\".\", figsize=(10, 7), \n",
    "                                      title='Transplant dates for patients that was lastly seen in th given txm event')"
   ]
  },
  {
   "cell_type": "markdown",
   "metadata": {},
   "source": [
    "### Join last seen patients with their summary"
   ]
  },
  {
   "cell_type": "code",
   "execution_count": null,
   "metadata": {},
   "outputs": [],
   "source": [
    "df_patient_to_event_list = df_all_patients.groupby(\n",
    "    ['recipient_id']\n",
    ")[['txm_event']].agg(lambda x: \",\".join([str(i) for i in x]))"
   ]
  },
  {
   "cell_type": "code",
   "execution_count": null,
   "metadata": {},
   "outputs": [],
   "source": [
    "df_patient_to_survival_summary = df_survival_summary.set_index('RecipientID')"
   ]
  },
  {
   "cell_type": "code",
   "execution_count": null,
   "metadata": {},
   "outputs": [],
   "source": [
    "df_patients_last_event_with_info = df_patients_last_event[['txm_event', 'recipient_id']]\\\n",
    "    .join(df_patients_with_recipient_id.set_index('recipient_id'), on='recipient_id')\\\n",
    "    .join(df_patient_to_event_list, on='recipient_id', rsuffix=\"_1\")\\\n",
    "    .join(df_patient_to_survival_summary, on='recipient_id', rsuffix=\"_2\")"
   ]
  },
  {
   "cell_type": "markdown",
   "metadata": {},
   "source": [
    "Export"
   ]
  },
  {
   "cell_type": "code",
   "execution_count": null,
   "metadata": {},
   "outputs": [],
   "source": [
    "df_patients_last_event_with_info.\\\n",
    "    loc[lambda r: r.StartDate.isnull()]\\\n",
    "    [['txm_event', 'recipient_id', 'recipient_name', 'recipient_year_of_birth', 'txm_event_1']]\\\n",
    "    .to_csv('data/ended_patients_without_transplant.csv', index=False)"
   ]
  },
  {
   "cell_type": "markdown",
   "metadata": {},
   "source": [
    "List patients that were not found in next event but were not transplanted:"
   ]
  },
  {
   "cell_type": "code",
   "execution_count": null,
   "metadata": {},
   "outputs": [],
   "source": [
    "# df_patients_last_event_with_info.loc[lambda r: r.StartDate.isnull()]"
   ]
  },
  {
   "cell_type": "markdown",
   "metadata": {},
   "source": [
    "Namátkově jsem porovnal pacienty co v párování skončili s xls sheety s konečnými variantami. Pro každý event ti pacienti, pro které jsme našli survival data (byli transplantování) odpovídají těm ze sheetu s konečnými variantami plus pář transplantacím s originálním donorem."
   ]
  },
  {
   "cell_type": "markdown",
   "metadata": {},
   "source": [
    "## Run solver on data with various granularity"
   ]
  },
  {
   "cell_type": "markdown",
   "metadata": {},
   "source": [
    "First we load the patients in old txm events and join survival data to them"
   ]
  },
  {
   "cell_type": "code",
   "execution_count": null,
   "metadata": {},
   "outputs": [],
   "source": [
    "df_survival_summary = pd.read_pickle('data/survival_summary.pkl').set_index('RecipientID')"
   ]
  },
  {
   "cell_type": "code",
   "execution_count": null,
   "metadata": {},
   "outputs": [],
   "source": [
    "df_all_patients_with_survival = df_all_patients\\\n",
    "    .join(df_survival_summary, on='recipient_id', rsuffix='_r')\\\n",
    "    .assign(has_transplant=lambda df: df.delay.notnull())\\\n",
    "    [lambda df: df.recipient_id.notnull()]\n",
    "#df_all_patients_with_survival"
   ]
  },
  {
   "cell_type": "markdown",
   "metadata": {},
   "source": [
    "Now we define function that returns patients that would be in txm event with different granularity.\n",
    "\n",
    "For given granularity, each event has patients from the originla event plus patients from $granularity - 1$ previous events that have been transplanted."
   ]
  },
  {
   "cell_type": "code",
   "execution_count": null,
   "metadata": {},
   "outputs": [],
   "source": [
    "def get_patients_for_granularity(txm_event, granularity):\n",
    "    df_patients_for_granularity = df_all_patients_with_survival.loc[\n",
    "        lambda df:\n",
    "        (df.txm_event == txm_event) | \n",
    "        ((df.txm_event > txm_event - granularity) & (df.txm_event < txm_event) & df.has_transplant)\n",
    "    ]\n",
    "    df_patients_for_granularity = df_patients_for_granularity.drop_duplicates(subset=['recipient_id']).set_index('recipient_id')\n",
    "    return df_patients_for_granularity\n",
    "\n",
    "# get_patients_for_granularity(txm_event=26, granularity=2)"
   ]
  },
  {
   "cell_type": "markdown",
   "metadata": {},
   "source": [
    "Before we run the solver, we make some config"
   ]
  },
  {
   "cell_type": "code",
   "execution_count": null,
   "metadata": {},
   "outputs": [],
   "source": [
    "# Initialize db\n",
    "test = DbTests()\n",
    "test.setUp()"
   ]
  },
  {
   "cell_type": "code",
   "execution_count": null,
   "metadata": {},
   "outputs": [],
   "source": [
    "logger = logging.getLogger()\n",
    "logger.setLevel('WARN')"
   ]
  },
  {
   "cell_type": "code",
   "execution_count": null,
   "metadata": {},
   "outputs": [],
   "source": [
    "# test.tearDown()"
   ]
  },
  {
   "cell_type": "markdown",
   "metadata": {},
   "source": [
    "Now we can run the solver. We define several functions for that."
   ]
  },
  {
   "cell_type": "code",
   "execution_count": null,
   "metadata": {},
   "outputs": [],
   "source": [
    "def row_to_patient_pair(db_id, row):\n",
    "    donor_typization = row.donor_typization\n",
    "    recipient_typization = row.recipient_typization\n",
    "    recipient_antibodies = row.recipient_luminex_2\n",
    "    \n",
    "    if donor_typization == '' or recipient_typization == '':\n",
    "        return None\n",
    "    \n",
    "    if recipient_antibodies == '':\n",
    "        # TODO: currently we ignore this patients because we do not have antibodies data, we need to have them probably\n",
    "        return None\n",
    "    \n",
    "    donor_typing = donor_typization.split(\" \")\n",
    "    recipient_typing = recipient_typization.split(\" \")\n",
    "    recipient_antibodies = recipient_antibodies.split(\" \")\n",
    "    \n",
    "    donor = Donor(\n",
    "        db_id=db_id,\n",
    "        medical_id=f'donor_{db_id}',\n",
    "        related_recipient_db_id=db_id,\n",
    "        parameters=PatientParameters(\n",
    "            blood_group=BloodGroup.A,\n",
    "            country_code=Country.CZE,\n",
    "            hla_typing=create_hla_typing(\n",
    "                donor_typing\n",
    "            )\n",
    "        )\n",
    "    )\n",
    "    \n",
    "    recipient = Recipient(\n",
    "        db_id=db_id,\n",
    "        acceptable_blood_groups=[],\n",
    "        related_donor_db_id=db_id,\n",
    "        medical_id=f'recipient_{db_id}',\n",
    "        parameters=PatientParameters(\n",
    "            blood_group=BloodGroup.A,\n",
    "            country_code=Country.CZE,\n",
    "            hla_typing=create_hla_typing(recipient_typing)\n",
    "        ),\n",
    "        hla_antibodies=create_antibodies([create_antibody(raw_code, 2000, 2000) for raw_code in recipient_antibodies])\n",
    "    )\n",
    "    \n",
    "    return donor, recipient"
   ]
  },
  {
   "cell_type": "code",
   "execution_count": null,
   "metadata": {},
   "outputs": [],
   "source": [
    "def compute_for_patients(df_patients):\n",
    "    donors = []\n",
    "    recipients = []\n",
    "    for index, row in df_patients.iterrows():\n",
    "        maybe_patient_pair = row_to_patient_pair(int(index), row)\n",
    "        if maybe_patient_pair is None:\n",
    "            continue\n",
    "        \n",
    "        donor, recipient = maybe_patient_pair\n",
    "        \n",
    "        donors.append(donor)\n",
    "        recipients.append(recipient)\n",
    "\n",
    "    txm_event = TxmEvent(1, 'sample_event', None, TxmEventState.OPEN, donors, recipients)\n",
    "    configuration = Configuration(max_number_of_matchings=1)\n",
    "    pairing_result = solve_from_configuration(configuration, txm_event=txm_event)\n",
    "\n",
    "    matchings_count = len(pairing_result.calculated_matchings_list)\n",
    "    if matchings_count > 0:\n",
    "        matching = pairing_result.calculated_matchings_list[0]\n",
    "        matching_pairs_count = len(matching.get_donor_recipient_pairs())\n",
    "    else:\n",
    "        matching_pairs_count = 0\n",
    "    \n",
    "    return matching_pairs_count, len(donors), len(recipients)\n",
    "\n",
    "#df_patients = get_patients_for_granularity(txm_event=12, granularity=1)\n",
    "#compute_for_patients(df_patients)"
   ]
  },
  {
   "cell_type": "code",
   "execution_count": null,
   "metadata": {},
   "outputs": [],
   "source": [
    "d = []\n",
    "\n",
    "for txm_event in range(10, 31):\n",
    "    for granularity in range(1, 5):\n",
    "        df_patients = get_patients_for_granularity(txm_event=txm_event, granularity=granularity)\n",
    "        \n",
    "        patients_count = len(df_patients.index)\n",
    "        \n",
    "        print(f\"Computing matching for txm_event {txm_event} and granularity {granularity} ({patients_count} patients)\", end=\" \")\n",
    "        start = time.time()\n",
    "        matching_pairs_count, valid_donors, valid_recipients = compute_for_patients(df_patients)\n",
    "        elapsed_time = time.time() - start\n",
    "        print(f\"-> {matching_pairs_count} transplants found ({elapsed_time:.2f} seconds)\")\n",
    "        \n",
    "        d.append({\n",
    "            'txm_event': txm_event,\n",
    "            'granularity': granularity,\n",
    "            'patients_count': patients_count,\n",
    "            'valid_donors': valid_donors,\n",
    "            'valid_recipients': valid_recipients,\n",
    "            'matching_pairs_count': matching_pairs_count,\n",
    "            'matching_pairs_count_normalized': matching_pairs_count / granularity,\n",
    "            'elapsed_time': elapsed_time\n",
    "        })\n",
    "\n",
    "df_granularity_results = pd.DataFrame(d)\n",
    "df_granularity_results"
   ]
  },
  {
   "cell_type": "markdown",
   "metadata": {},
   "source": [
    "### Results"
   ]
  },
  {
   "cell_type": "markdown",
   "metadata": {},
   "source": [
    "Everything is computed now. Lets show some plots"
   ]
  },
  {
   "cell_type": "code",
   "execution_count": null,
   "metadata": {},
   "outputs": [],
   "source": [
    "df_granularity_results.pivot_table(index='txm_event', columns='granularity', values='patients_count').plot(ylabel='Patients count')\n",
    "df_granularity_results.pivot_table(index='txm_event', columns='granularity', values='valid_donors').plot(ylabel='Valid donors')\n",
    "df_granularity_results.pivot_table(index='txm_event', columns='granularity', values='matching_pairs_count').plot(ylabel='matching_pairs_count')\n",
    "df_granularity_results.pivot_table(index='txm_event', columns='granularity', values='matching_pairs_count_normalized').plot(ylabel='matching_pairs_count_normalized')\n",
    "df_granularity_results.pivot_table(index='txm_event', columns='granularity', values='elapsed_time').plot(ylabel='elapsed_time (s)')"
   ]
  }
 ],
 "metadata": {
  "kernelspec": {
   "display_name": "TXM new",
   "language": "python",
   "name": "txmatching"
  },
  "language_info": {
   "codemirror_mode": {
    "name": "ipython",
    "version": 3
   },
   "file_extension": ".py",
   "mimetype": "text/x-python",
   "name": "python",
   "nbconvert_exporter": "python",
   "pygments_lexer": "ipython3",
   "version": "3.8.3"
  }
 },
 "nbformat": 4,
 "nbformat_minor": 2
}
