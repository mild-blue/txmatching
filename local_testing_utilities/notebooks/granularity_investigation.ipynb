{
 "cells": [
  {
   "cell_type": "markdown",
   "metadata": {},
   "source": [
    "## Imports"
   ]
  },
  {
   "cell_type": "code",
   "execution_count": null,
   "metadata": {},
   "outputs": [],
   "source": [
    "import pandas as pd\n",
    "import os\n",
    "from typing import List\n",
    "import re\n",
    "import numpy as np\n",
    "import sys\n",
    "import math"
   ]
  },
  {
   "cell_type": "code",
   "execution_count": null,
   "metadata": {},
   "outputs": [],
   "source": [
    "sys.path.insert(0, \"../..\")\n",
    "\n",
    "from local_testing_utilities.notebook_utils.pairing_data import parse_pairing_data\n",
    "from local_testing_utilities.notebook_utils.survival_data import parse_survival_data"
   ]
  },
  {
   "cell_type": "markdown",
   "metadata": {},
   "source": [
    "## Load data"
   ]
  },
  {
   "cell_type": "code",
   "execution_count": null,
   "metadata": {},
   "outputs": [],
   "source": [
    "df_all_patients = parse_pairing_data('data/KDP-processed', 'data/patients_list_recipientID.csv', remove_single_donors=True)"
   ]
  },
  {
   "cell_type": "code",
   "execution_count": null,
   "metadata": {},
   "outputs": [],
   "source": [
    "df_survival = parse_survival_data('data/LD_kidney_survival.csv')\n",
    "df_survival_summary = df_survival[['RecipientID', 'StartDate', 'LastVisitDate', 'EndDate', 'delay', 'EndReason', 'NoVisits', 'donor_typization', 'recipient_typization']]"
   ]
  },
  {
   "cell_type": "code",
   "execution_count": null,
   "metadata": {},
   "outputs": [],
   "source": [
    "df_patients_with_recipient_id = pd.read_csv('data/patients_list_recipientID.csv')"
   ]
  },
  {
   "cell_type": "markdown",
   "metadata": {},
   "source": [
    "### Patients that were seen in given event but were not seen in next event"
   ]
  },
  {
   "cell_type": "code",
   "execution_count": null,
   "metadata": {},
   "outputs": [],
   "source": [
    "df_patients_last_event = df_all_patients.loc[\n",
    "    df_all_patients.apply(\n",
    "        lambda row1:\n",
    "        not df_all_patients.apply(\n",
    "            lambda row2:\n",
    "            row1.txm_event + 1 == row2.txm_event and \\\n",
    "            row1.recipient_name == row2.recipient_name,\n",
    "            axis=1\n",
    "        ).any(),\n",
    "        axis=1\n",
    "    )\n",
    "]\n",
    "print(len(df_patients_last_event.index))\n",
    "df_patients_last_event.head()"
   ]
  },
  {
   "cell_type": "markdown",
   "metadata": {},
   "source": [
    "How many patients were seen in given event but was not seen in next event"
   ]
  },
  {
   "cell_type": "code",
   "execution_count": null,
   "metadata": {},
   "outputs": [],
   "source": [
    "df_patients_last_event.groupby('txm_event').count()['recipient_name'].plot()"
   ]
  },
  {
   "cell_type": "markdown",
   "metadata": {},
   "source": [
    "### Join patients last events with survival data"
   ]
  },
  {
   "cell_type": "code",
   "execution_count": null,
   "metadata": {},
   "outputs": [],
   "source": [
    "df_patients_last_event_with_surv = df_patients_last_event.join(df_survival_summary.set_index('RecipientID'), on='recipient_id', rsuffix='_surv')\n",
    "df_patients_last_event_with_surv\n",
    "\n",
    "df_patients_last_event_with_surv.groupby('txm_event').count()\\\n",
    "    .apply(lambda row: pd.Series({'ended': row.recipient_name, 'ended with transplant found': row.delay}), axis=1)\\\n",
    "    .plot(title='Number of patients that were lastly seen in the given txm event versus those that were mapped to transplant date', figsize=(12, 5))"
   ]
  },
  {
   "cell_type": "code",
   "execution_count": null,
   "metadata": {},
   "outputs": [],
   "source": [
    "df_patients_last_event_with_surv.plot(x='txm_event', y='StartDate', style=\".\", figsize=(10, 7), \n",
    "                                      title='Transplant dates for patients that was lastly seen in th given txm event')"
   ]
  },
  {
   "cell_type": "markdown",
   "metadata": {},
   "source": [
    "### Join last seen patients with their summary"
   ]
  },
  {
   "cell_type": "code",
   "execution_count": null,
   "metadata": {},
   "outputs": [],
   "source": [
    "df_patient_to_event_list = df_all_patients.groupby(\n",
    "    ['recipient_id']\n",
    ")[['txm_event']].agg(lambda x: \",\".join([str(i) for i in x]))"
   ]
  },
  {
   "cell_type": "code",
   "execution_count": null,
   "metadata": {},
   "outputs": [],
   "source": [
    "df_patient_to_survival_summary = df_survival_summary.set_index('RecipientID')"
   ]
  },
  {
   "cell_type": "code",
   "execution_count": null,
   "metadata": {},
   "outputs": [],
   "source": [
    "df_patients_last_event_with_info = df_patients_last_event[['txm_event', 'recipient_id']]\\\n",
    "    .join(df_patients_with_recipient_id.set_index('recipient_id'), on='recipient_id')\\\n",
    "    .join(df_patient_to_event_list, on='recipient_id', rsuffix=\"_1\")\\\n",
    "    .join(df_patient_to_survival_summary, on='recipient_id', rsuffix=\"_2\")"
   ]
  },
  {
   "cell_type": "markdown",
   "metadata": {},
   "source": [
    "List patients that were not found in next event but were not transplanted:"
   ]
  },
  {
   "cell_type": "code",
   "execution_count": null,
   "metadata": {},
   "outputs": [],
   "source": [
    "df_patients_last_event_with_info.loc[lambda r: r.StartDate.isnull()]"
   ]
  },
  {
   "cell_type": "markdown",
   "metadata": {},
   "source": [
    "Namátkově jsem porovnal pacienty co v párování skončili s xls sheety s konečnými variantami. Pro každý event ti pacienti, pro které jsme našli survival data (byli transplantování) odpovídají těm ze sheetu s konečnými variantami plus pář transplantacím s originálním donorem."
   ]
  }
 ],
 "metadata": {
  "kernelspec": {
   "display_name": "TXM new",
   "language": "python",
   "name": "txmatching"
  },
  "language_info": {
   "codemirror_mode": {
    "name": "ipython",
    "version": 3
   },
   "file_extension": ".py",
   "mimetype": "text/x-python",
   "name": "python",
   "nbconvert_exporter": "python",
   "pygments_lexer": "ipython3",
   "version": "3.8.3"
  }
 },
 "nbformat": 4,
 "nbformat_minor": 2
}
