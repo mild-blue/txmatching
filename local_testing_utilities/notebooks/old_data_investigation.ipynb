{
 "cells": [
  {
   "cell_type": "markdown",
   "metadata": {},
   "source": [
    "# Investigation of old transplant data\n",
    "\n",
    "To run this, please copy to `data` directory\n",
    "- old patient data (`KDP-processed` directory)\n",
    "- `LD_kidney_survival.csv`\n",
    "- `patients_list_recipientID.csv`\n",
    "\n",
    "Such data can be found in our GDrive (Produkty > TXM > Pairing data > Old matchings)."
   ]
  },
  {
   "cell_type": "markdown",
   "metadata": {},
   "source": [
    "## Imports"
   ]
  },
  {
   "cell_type": "code",
   "execution_count": null,
   "metadata": {},
   "outputs": [],
   "source": [
    "import pandas as pd\n",
    "import os\n",
    "from dataclasses import dataclass, asdict\n",
    "from typing import List\n",
    "import re\n",
    "import numpy as np\n",
    "import sys\n",
    "import math"
   ]
  },
  {
   "cell_type": "code",
   "execution_count": null,
   "metadata": {},
   "outputs": [],
   "source": [
    "sys.path.insert(0, \"../..\")\n",
    "\n",
    "from local_testing_utilities.notebook_utils.pairing_data import parse_pairing_data\n",
    "from local_testing_utilities.notebook_utils.survival_data import parse_survival_data"
   ]
  },
  {
   "cell_type": "markdown",
   "metadata": {},
   "source": [
    "## A) Load old patients data"
   ]
  },
  {
   "cell_type": "code",
   "execution_count": null,
   "metadata": {},
   "outputs": [],
   "source": [
    "df_all_patients = parse_pairing_data('data/KDP-processed', 'data/patients_list_recipientID.csv', remove_single_donors=True)\n",
    "\n",
    "# All patients for all txm events\n",
    "df_all_patients.head()\n",
    "#df_all_patients.loc[df_all_patients.txm_event == 31]\n",
    "\n",
    "# I checked in xlsx files that the data were parsed to the last czech patient\n",
    "# df_all_patients.groupby(['txm_event']).last()"
   ]
  },
  {
   "cell_type": "markdown",
   "metadata": {},
   "source": [
    "Patients without recipient id"
   ]
  },
  {
   "cell_type": "code",
   "execution_count": null,
   "metadata": {},
   "outputs": [],
   "source": [
    "df_all_patients.loc[df_all_patients.recipient_id.isnull()]"
   ]
  },
  {
   "cell_type": "code",
   "execution_count": null,
   "metadata": {},
   "outputs": [],
   "source": [
    "print(len(df_all_patients.index))\n",
    "print(\"---\")\n",
    "\n",
    "print(len(df_all_patients.groupby(['donor_name']).first().index))\n",
    "print(len(df_all_patients.groupby(['donor_typization']).first().index))\n",
    "print(len(df_all_patients.groupby(['donor_name', 'donor_typization']).first().index))\n",
    "print(\"---\")\n",
    "\n",
    "print(len(df_all_patients.groupby(['recipient_name']).first().index))\n",
    "print(len(df_all_patients.groupby(['recipient_typization']).first().index))\n",
    "print(len(df_all_patients.groupby(['recipient_name', 'recipient_typization']).first().index))\n",
    "\n",
    "print(\"---\")\n",
    "print(len(df_all_patients.groupby(['recipient_luminex_2']).first().index))\n",
    "print(len(df_all_patients.groupby(['recipient_luminex_2', 'recipient_typization']).first().index))"
   ]
  },
  {
   "cell_type": "markdown",
   "metadata": {},
   "source": [
    "### Export unique patients\n",
    "This was used for exporting patients for Kahle"
   ]
  },
  {
   "cell_type": "code",
   "execution_count": null,
   "metadata": {},
   "outputs": [],
   "source": [
    "# pd.set_option('display.max_rows', 500)\n",
    "# df_unique_patients = df_all_patients[~df_all_patients.recipient_year_of_birth.isin(['nan', 'x'])].groupby(['recipient_name', 'recipient_year_of_birth']).first()[[]]\n",
    "# df_unique_patients.to_csv('patients_list.csv')\n",
    "# display(df_unique_patients)\n",
    "# pd.reset_option('display.max_rows')"
   ]
  },
  {
   "cell_type": "markdown",
   "metadata": {},
   "source": [
    "### Problematic data"
   ]
  },
  {
   "cell_type": "markdown",
   "metadata": {},
   "source": [
    "#### 1. Donors with the same name but different typization"
   ]
  },
  {
   "cell_type": "code",
   "execution_count": null,
   "metadata": {},
   "outputs": [],
   "source": [
    "_problematic_patients = df_all_patients.set_index('donor_name').join(df_all_patients.set_index('donor_name'), lsuffix='_l', rsuffix='_r')\\\n",
    "    .loc[lambda x: x.donor_typization_l < x.donor_typization_r]\n",
    "\n",
    "print(len(_problematic_patients.index))\n",
    "_problematic_patients[['txm_event_l', 'donor_typization_l', 'donor_typization_r', 'txm_event_r', ]]\\\n",
    " .groupby(['donor_name', 'donor_typization_l', 'donor_typization_r'])\\\n",
    " .agg(lambda x: \",\".join({str(i) for i in x}))"
   ]
  },
  {
   "cell_type": "markdown",
   "metadata": {},
   "source": [
    "#### 2. Recipients with the same name but different typization"
   ]
  },
  {
   "cell_type": "code",
   "execution_count": null,
   "metadata": {},
   "outputs": [],
   "source": [
    "_problematic_patients = df_all_patients.set_index('recipient_name').join(df_all_patients.set_index('recipient_name'), lsuffix='_l', rsuffix='_r')\\\n",
    "    .loc[lambda x: x.recipient_typization_l < x.recipient_typization_r]\n",
    "\n",
    "print(len(_problematic_patients.index))\n",
    "_problematic_patients[['txm_event_l', 'recipient_typization_l', 'recipient_typization_r', 'txm_event_r', ]]\\\n",
    " .groupby(['recipient_name', 'recipient_typization_l', 'recipient_typization_r'])\\\n",
    " .agg(lambda x: \",\".join({str(i) for i in x}))"
   ]
  },
  {
   "cell_type": "markdown",
   "metadata": {},
   "source": [
    "#### 3. Donors with the same typization but different name"
   ]
  },
  {
   "cell_type": "code",
   "execution_count": null,
   "metadata": {},
   "outputs": [],
   "source": [
    "_problematic_patients = df_all_patients.set_index('donor_typization').join(df_all_patients.set_index('donor_typization'), lsuffix='_l', rsuffix='_r')\\\n",
    "    .loc[lambda x: x.donor_name_l < x.donor_name_r]\n",
    "\n",
    "print(len(_problematic_patients.index))\n",
    "_problematic_patients[['txm_event_l', 'donor_name_l', 'donor_name_r', 'txm_event_r', ]]\\\n",
    " .groupby(['donor_name_l', 'donor_name_r', 'donor_typization'])\\\n",
    " .agg(lambda x: \",\".join(sorted({str(i) for i in x})))"
   ]
  },
  {
   "cell_type": "markdown",
   "metadata": {},
   "source": [
    "#### 4. Recipients with the same typization but different name"
   ]
  },
  {
   "cell_type": "code",
   "execution_count": null,
   "metadata": {},
   "outputs": [],
   "source": [
    "_problematic_patients = df_all_patients.set_index('recipient_typization').join(df_all_patients.set_index('recipient_typization'), lsuffix='_l', rsuffix='_r')\\\n",
    "    .loc[lambda x: x.recipient_name_l < x.recipient_name_r]\n",
    "\n",
    "print(len(_problematic_patients.index))\n",
    "_problematic_patients[['txm_event_l', 'recipient_name_l', 'recipient_name_r', 'txm_event_r', ]].fillna(-1)\\\n",
    " .groupby(['recipient_name_l', 'recipient_name_r', 'recipient_typization'])\\\n",
    " .agg(lambda x: \",\".join(sorted({str(i) for i in x})))"
   ]
  },
  {
   "cell_type": "markdown",
   "metadata": {},
   "source": [
    "### Plotting"
   ]
  },
  {
   "cell_type": "code",
   "execution_count": null,
   "metadata": {},
   "outputs": [],
   "source": [
    "%matplotlib inline\n",
    "\n",
    "a = df_all_patients.groupby(['recipient_id']).count().groupby(['txm_event']).count()['donor_blood_group']\n",
    "a.plot.bar(title='# patients in # rounds', figsize=(10, 5))"
   ]
  },
  {
   "cell_type": "code",
   "execution_count": null,
   "metadata": {},
   "outputs": [],
   "source": [
    "df_all_patients.groupby(['txm_event']).nunique()[['recipient_id', 'recipient_typization', 'recipient_name','donor_typization', 'donor_name' ]]\\\n",
    "    .plot.bar(figsize=(20, 5), title='Number of specified values for each txm_event')"
   ]
  },
  {
   "cell_type": "code",
   "execution_count": null,
   "metadata": {},
   "outputs": [],
   "source": [
    "df_patients_to_event = pd.pivot_table(df_all_patients.assign(one=1), values='one', index=['recipient_id'], columns=['txm_event'], aggfunc=np.sum, fill_value=0)\n",
    "df_event_to_patients = pd.pivot_table(df_all_patients.assign(one=1), values='one', index=['txm_event'], columns=['recipient_id'], aggfunc=np.sum, fill_value=0)\n",
    "df_event_to_patients.plot.area(figsize=(20,10), legend=False, title='In what txm events each patient was')"
   ]
  },
  {
   "cell_type": "code",
   "execution_count": null,
   "metadata": {},
   "outputs": [],
   "source": [
    "# Uncomment to show the above in table\n",
    "# df_patients_to_event"
   ]
  },
  {
   "cell_type": "markdown",
   "metadata": {},
   "source": [
    "## B) Kidney survival data"
   ]
  },
  {
   "cell_type": "code",
   "execution_count": null,
   "metadata": {},
   "outputs": [],
   "source": [
    "df_survival = parse_survival_data('data/LD_kidney_survival_with_donor_params.csv')\n",
    "df_survival.head()"
   ]
  },
  {
   "cell_type": "markdown",
   "metadata": {},
   "source": [
    "### Closed transplants with smallest delay"
   ]
  },
  {
   "cell_type": "code",
   "execution_count": null,
   "metadata": {},
   "outputs": [],
   "source": [
    "df_survival.loc[df_survival.EndReason.notnull()].sort_values(by='delay').head()"
   ]
  },
  {
   "cell_type": "markdown",
   "metadata": {},
   "source": [
    "## C) Join both data"
   ]
  },
  {
   "cell_type": "markdown",
   "metadata": {},
   "source": [
    "### C.1. Preprocess patiens"
   ]
  },
  {
   "cell_type": "code",
   "execution_count": null,
   "metadata": {},
   "outputs": [],
   "source": [
    "df_patients_summary = df_all_patients.groupby(\n",
    "    ['donor_name', 'donor_typization', 'donor_blood_group', 'donor_relationship', 'recipient_name',\n",
    "     'recipient_typization', 'recipient_id']\n",
    ")[['txm_event']].agg(lambda x: \",\".join([str(i) for i in x])).reset_index()\n",
    "\n",
    "df_patients_summary.rename(columns={\n",
    "    'donor_name': 'orig_donor_name',\n",
    "    'donor_typization': 'orig_donor_typization',\n",
    "    'donor_blood_group': 'orig_donor_blood_group',\n",
    "    'donor_relationship': 'orig_donor_relationship',\n",
    "    # 'recipient_luminex_2': 'recipient_luminex',\n",
    "    'txm_event': 'txm_events'\n",
    "}, inplace=True)\n",
    "\n",
    "df_patients_summary['last_txm_event'] = df_patients_summary['txm_events'].apply(lambda events: int(str(events).split(\",\")[-1])).astype('int32')\n",
    "\n",
    "print(\"Number of patients:\")\n",
    "print(len(df_patients_summary.index))\n",
    "print(len(df_patients_summary.recipient_id.unique()))\n",
    "df_patients_summary#.head()"
   ]
  },
  {
   "cell_type": "markdown",
   "metadata": {},
   "source": [
    "### C.2. Preprocess survival data"
   ]
  },
  {
   "cell_type": "code",
   "execution_count": null,
   "metadata": {},
   "outputs": [],
   "source": [
    "df_survival_summary = df_survival"
   ]
  },
  {
   "cell_type": "markdown",
   "metadata": {},
   "source": [
    "### C.3. Join both data"
   ]
  },
  {
   "cell_type": "code",
   "execution_count": null,
   "metadata": {},
   "outputs": [],
   "source": [
    "df_joined = df_patients_summary.set_index('recipient_id').join(df_survival_summary.set_index('RecipientID'), how='inner', rsuffix='_r')\n",
    "df_joined = df_joined.reset_index()\n",
    "print(\"Number of transplanted patients:\")\n",
    "print(len(df_joined.index))"
   ]
  },
  {
   "cell_type": "markdown",
   "metadata": {},
   "source": [
    "### Oldest transplant in joined data"
   ]
  },
  {
   "cell_type": "code",
   "execution_count": null,
   "metadata": {},
   "outputs": [],
   "source": [
    "df_joined_oldest = df_joined.sort_values(by='StartDate')\n",
    "oldest_start_date = df_joined_oldest.iloc[0].StartDate\n",
    "print(oldest_start_date)\n",
    "df_joined_oldest.iloc[0:1]"
   ]
  },
  {
   "cell_type": "markdown",
   "metadata": {},
   "source": [
    "### Number survival data that are more recent than the oldest transplant"
   ]
  },
  {
   "cell_type": "code",
   "execution_count": null,
   "metadata": {},
   "outputs": [],
   "source": [
    "df_survival_summary_recent = df_survival_summary.loc[df_survival_summary.StartDate >= oldest_start_date].sort_values(by='StartDate')\n",
    "print(len(df_survival_summary_recent.index))"
   ]
  },
  {
   "cell_type": "code",
   "execution_count": null,
   "metadata": {},
   "outputs": [],
   "source": [
    "df_joined.plot(x='last_txm_event', y='StartDate', style=\".\", figsize=(10, 7))"
   ]
  }
 ],
 "metadata": {
  "kernelspec": {
   "display_name": "TXM new",
   "language": "python",
   "name": "txmatching"
  },
  "language_info": {
   "codemirror_mode": {
    "name": "ipython",
    "version": 3
   },
   "file_extension": ".py",
   "mimetype": "text/x-python",
   "name": "python",
   "nbconvert_exporter": "python",
   "pygments_lexer": "ipython3",
   "version": "3.8.3"
  }
 },
 "nbformat": 4,
 "nbformat_minor": 2
}
