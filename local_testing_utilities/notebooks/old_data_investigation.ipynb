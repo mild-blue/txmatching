{
 "cells": [
  {
   "cell_type": "markdown",
   "metadata": {},
   "source": [
    "# Investigation of old transplant data\n",
    "\n",
    "To run this, please copy old patient data (`KDP` directory) and `LD_kidney_survival.csv` to `data` directory."
   ]
  },
  {
   "cell_type": "markdown",
   "metadata": {},
   "source": [
    "## Imports"
   ]
  },
  {
   "cell_type": "code",
   "execution_count": null,
   "metadata": {},
   "outputs": [],
   "source": [
    "import pandas as pd\n",
    "import os\n",
    "from dataclasses import dataclass, asdict\n",
    "from typing import List\n",
    "import re\n",
    "import numpy as np\n",
    "import sys"
   ]
  },
  {
   "cell_type": "code",
   "execution_count": null,
   "metadata": {},
   "outputs": [],
   "source": [
    "#filenames = sorted(os.listdir('KDP'))\n",
    "#[(i + 10, 1, f) for i, f in enumerate(filenames)]"
   ]
  },
  {
   "cell_type": "markdown",
   "metadata": {},
   "source": [
    "## A) Load old patients data"
   ]
  },
  {
   "cell_type": "code",
   "execution_count": null,
   "metadata": {},
   "outputs": [],
   "source": [
    "@dataclass\n",
    "class PatientPair:\n",
    "    txm_event: str\n",
    "    \n",
    "    donor_name: str\n",
    "    donor_blood_group: str\n",
    "    donor_year_of_birth: int\n",
    "    donor_relationship: str\n",
    "    donor_typization: str\n",
    "        \n",
    "    recipient_name: str = ''\n",
    "    recipient_blood_group: str = ''\n",
    "    recipient_year_of_birth: str = ''\n",
    "    recipient_typization: str = ''\n",
    "        \n",
    "    recipient_luminex_date: str = None\n",
    "    recipient_luminex_1: str = None\n",
    "    recipient_luminex_2: str = ''\n",
    "    recipient_acceptable_blood: str = None"
   ]
  },
  {
   "cell_type": "code",
   "execution_count": null,
   "metadata": {},
   "outputs": [],
   "source": [
    "@dataclass\n",
    "class ExcelColumnsMap:\n",
    "    donor_name: str\n",
    "    donor_blood_group: str\n",
    "    donor_year_of_birth: int\n",
    "    donor_relationship: str\n",
    "    donor_typization: str\n",
    "        \n",
    "    recipient_name: str\n",
    "    recipient_blood_group: str\n",
    "    recipient_year_of_birth: str\n",
    "    recipient_typization: str\n",
    "        \n",
    "    recipient_luminex_date: str\n",
    "    recipient_luminex_1: str\n",
    "    recipient_luminex_2: str\n",
    "    recipient_acceptable_blood: str\n",
    "    \n",
    "map_0 = None\n",
    "\n",
    "map_1 = ExcelColumnsMap(\n",
    "    ['Donor', 'DÁRCE'],\n",
    "    ['BLOOD GROUP donor', 'KS', 'KS dárce','KS DÁRCE', 'Blood group', 'KS DÁRCE donor', 'KS  donor'],\n",
    "    ['ID/age', 'ID', 'RČ'],\n",
    "    ['RELATIONSHIP', 'VZTAH'],\n",
    "    ['TYPIZATION DONOR', 'TYPIZACE', 'Typizace dárce', 'Typing', 'TYPIZACE DÁRCE'],\n",
    "    \n",
    "    [' RECIPIENT', 'RECIPIENT', 'PŘÍJEMCE'],\n",
    "    ['BLOOD GROUP recipient', 'KS.1', 'KS příjemce','KS PŘÍJEMCE', 'Blood group.1'],\n",
    "    ['ID/age.1', 'ID.1', 'RČ.1'], \n",
    "    ['TYPIZATION RECIPIENT', 'TYPIZACE.1', 'Typizace příjemce', 'Typing.1', 'TYPIZACE PŘÍJEMCE'],\n",
    "    \n",
    "    ['datum luminex'],\n",
    "    ['luminex varianta 1', 'Luminex varianta 1', 'LUMINEX: SA1>1000MFI,SA2>2000MFI', 'Luminex'],\n",
    "    ['luminex  cut-off (2000 MFI) varianta 2', 'LUMINEX:SA1 a SA2>2000MFI', 'Luminex varianta 2', 'luminex posun cut-off', 'luminex posun cut off', 'luminex posun cut-off varianta 2'],\n",
    "    ['Acceptable blood group', 'Povolené KS', 'allowed blood group', 'povolené KS.'],\n",
    ")"
   ]
  },
  {
   "cell_type": "code",
   "execution_count": null,
   "metadata": {},
   "outputs": [],
   "source": [
    "import math\n",
    "\n",
    "def _parse_hla(hla_codes_str: str):\n",
    "    if 'neg' in hla_codes_str.lower():\n",
    "        return \"\" #[]\n",
    "    # remove codes in brackets, they are only in detail all the split codes for broade in front of the bracket\n",
    "    hla_codes_str = re.sub(r'\\(.*?\\)', '', hla_codes_str)\n",
    "    hla_codes = re.split('[,. ()]+', hla_codes_str)\n",
    "    hla_codes = [code.upper() for code in hla_codes if len(code) > 0]\n",
    "\n",
    "    return \" \".join(sorted(hla_codes))\n",
    "\n",
    "def row_to_patient_pair(row, config):\n",
    "    txm_event, header, sheet_name, nrows, col_map, filename = config\n",
    "    \n",
    "    col_map_dict = dict()\n",
    "    for key, col_names in asdict(col_map).items():\n",
    "        col_map_dict[key] = None\n",
    "        for col_name in col_names:\n",
    "            col_name = col_name.lower()\n",
    "            #print(set(row.keys()))\n",
    "            if col_name in set(row.keys()):\n",
    "                col_map_dict[key] = str(row[col_name]).strip().replace('    ', ' ')\n",
    "                continue\n",
    "    \n",
    "    missing_columns = {k: asdict(col_map)[k] for k, v in col_map_dict.items() \n",
    "                       if v is None and k in { # required columns\n",
    "                           'donor_blood_group', 'donor_typization', 'recipient_blood_group', 'recipient_typization', 'recipient_luminex_2', 'recipient_acceptable_blood'\n",
    "                       }}\n",
    "    if len(missing_columns) > 0:\n",
    "        print(f'Missing columns in {filename}: {missing_columns}.\\n -- {set(row.keys())}')\n",
    "        #raise ValueError(f'Missing columns: {missing_columns}. {filename}: {set(row.keys())}')\n",
    "\n",
    "    if pd.isnull(col_map_dict['donor_typization']) or pd.isnull(col_map_dict['recipient_typization']):\n",
    "        # This happens for and bridging or if row is empty. Uncomment to check it\n",
    "        # print(f\"Warning: Row ignored ({filename}): {row}\")\n",
    "        return None\n",
    "    \n",
    "    col_map_dict['donor_typization'] = _parse_hla(col_map_dict['donor_typization'])\n",
    "    col_map_dict['recipient_typization'] = _parse_hla(col_map_dict['recipient_typization'])\n",
    "    if col_map_dict['recipient_luminex_1'] is not None:\n",
    "        col_map_dict['recipient_luminex_1'] = _parse_hla(col_map_dict['recipient_luminex_1'])\n",
    "    col_map_dict['recipient_luminex_2'] = _parse_hla(col_map_dict['recipient_luminex_2'])\n",
    "    \n",
    "    return PatientPair(\n",
    "        txm_event,\n",
    "        \n",
    "        **col_map_dict\n",
    "    )"
   ]
  },
  {
   "cell_type": "code",
   "execution_count": null,
   "metadata": {},
   "outputs": [],
   "source": [
    "configs = [\n",
    "    (10, 1, 0, None, map_1, 'PV10_prehled.xlsx'),\n",
    "    (11, 1, 0, None, map_1, 'PV11_prehled_vysetreni.xlsx'),\n",
    "    (12, 1, 0, None, map_1, 'PV12finální přehled.xlsx'),\n",
    "    (13, 1, 2, None, map_1, 'PV13finalni přehled vyšetření.xlsx'),\n",
    "    (14, 0, 0, 5, map_1, 'PV14_Czech_Vienna_final_results.xlsx'),\n",
    "    (15, 1, 0, None, map_1, 'PV15.xlsx'),\n",
    "    (16, 1, 0, None, map_1, 'PV16.xlsx'),\n",
    "    (17, 1, 0, None, map_1, 'PV17.xlsx'),\n",
    "    (18, 2, 0, None, map_1, 'PV18.xlsx'),\n",
    "    (19, 0, 0, 8, map_1, 'PV19.xlsx'),\n",
    "    (20, 0, 0, 9, map_1, 'PV20 + Vienna.xlsx'),\n",
    "    (21, 0, 0, 11, map_1, 'PV21.xlsx'),\n",
    "    (22, 0, 0, None, map_1, 'PV22.xlsx'),\n",
    "    (23, 0, 0, 13, map_1, 'PV23.xlsx'),\n",
    "    (24, 0, 0, 12, map_1, 'PV24.xlsx'),\n",
    "    (25, 0, 0, 17, map_1, 'PV25.xlsx'),\n",
    "    # (26, 1, 'PV26 + Izrael.xlsx'),\n",
    "    (26, 1, 0, 15, map_1, 'PV26.xlsx'),\n",
    "    (27, 1, 0, 11, map_1, 'PV27.xlsx'),\n",
    "    #(29, 1, 'PV28 + Izrael.xlsx'),\n",
    "    (28, 1, 0, 15, map_1, 'PV28 + Rakousko.xlsx'),\n",
    "    (29, 1, 0, 13, map_1, 'PV29.xlsx'),\n",
    "    (30, 1, 0, 13, map_1, 'PV30.xlsx'),\n",
    "    #(33, 1, 'Přehled vyšetření k 14.1.2015.xlsx'),\n",
    "    #(34, 1, 'Souhrn vysetreni k 23.5.2013.xls'),\n",
    "    #(35, 1, 'Stav vyšetření k 10.6.2014.xlsx'),\n",
    "    #(36, 1, 'Stav vyšetření k 13.02.2014.xls'),\n",
    "    #(37, 1, 'Stav vyšetření k 20.11.2013.xls'),\n",
    "    #(38, 1, 'Stav vyšetření k 4.9.2013.xls'),\n",
    "    #(39, 1, 'Stav vyšetření k 4.9.2014.xlsx')\n",
    "]"
   ]
  },
  {
   "cell_type": "code",
   "execution_count": null,
   "metadata": {},
   "outputs": [],
   "source": [
    "patient_pairs = []\n",
    "\n",
    "for config in configs[:]:\n",
    "    txm_event, header, sheet_name, nrows, col_map, filename = config\n",
    "    \n",
    "    path = os.path.join('data/KDP', filename)\n",
    "    df = pd.read_excel(path, index_col=None, header=header, sheet_name=sheet_name, nrows=nrows)\n",
    "    # print(df.columns)\n",
    "    if txm_event == 14:\n",
    "        df = df.rename(columns={\n",
    "            'Typing ': 'typing',\n",
    "            'Typing': 'typing.1',\n",
    "            'LUMINEX results': 'luminex varianta 2'  # This needs to be consulted with imunologists\n",
    "        })\n",
    "    if txm_event == 10:\n",
    "        df['acceptable blood group'] = ''\n",
    "        \n",
    "    df = df.rename(columns=lambda x: x.lower())\n",
    "    \n",
    "    for _, row in df.iterrows():\n",
    "        if col_map is None:\n",
    "            continue\n",
    "        pp = row_to_patient_pair(row, config)\n",
    "        if pp is not None:\n",
    "            patient_pairs.append(pp)\n",
    "\n",
    "patient_pairs = [asdict(pp) for pp in patient_pairs]\n",
    "\n",
    "df_all_patients = pd.DataFrame(patient_pairs)\n",
    "\n",
    "# All patients for all txm events\n",
    "df_all_patients.head()\n",
    "#df_all_patients.loc[df_all_patients.txm_event == 28]\n",
    "\n",
    "# I checked in xlsx files that the data were parsed to the last czech patient\n",
    "# df_all_patients.groupby(['txm_event']).last()"
   ]
  },
  {
   "cell_type": "code",
   "execution_count": null,
   "metadata": {},
   "outputs": [],
   "source": [
    "print(len(df_all_patients.index))\n",
    "print(\"---\")\n",
    "\n",
    "print(len(df_all_patients.groupby(['donor_name']).first().index))\n",
    "print(len(df_all_patients.groupby(['donor_typization']).first().index))\n",
    "print(len(df_all_patients.groupby(['donor_name', 'donor_typization']).first().index))\n",
    "print(\"---\")\n",
    "\n",
    "print(len(df_all_patients.groupby(['recipient_name']).first().index))\n",
    "print(len(df_all_patients.groupby(['recipient_typization']).first().index))\n",
    "print(len(df_all_patients.groupby(['recipient_name', 'recipient_typization']).first().index))\n",
    "\n",
    "print(\"---\")\n",
    "print(len(df_all_patients.groupby(['recipient_luminex_2']).first().index))\n",
    "print(len(df_all_patients.groupby(['recipient_luminex_2', 'recipient_typization']).first().index))"
   ]
  },
  {
   "cell_type": "markdown",
   "metadata": {},
   "source": [
    "### Export unique patients"
   ]
  },
  {
   "cell_type": "code",
   "execution_count": null,
   "metadata": {},
   "outputs": [],
   "source": [
    "# pd.set_option('display.max_rows', 500)\n",
    "# df_unique_patients = df_all_patients[~df_all_patients.recipient_year_of_birth.isin(['nan', 'x'])].groupby(['recipient_name', 'recipient_year_of_birth']).first()[[]]\n",
    "# df_unique_patients.to_csv('patients_list.csv')\n",
    "# display(df_unique_patients)\n",
    "# pd.reset_option('display.max_rows')"
   ]
  },
  {
   "cell_type": "markdown",
   "metadata": {},
   "source": [
    "### Problematic data"
   ]
  },
  {
   "cell_type": "markdown",
   "metadata": {},
   "source": [
    "#### 1. Donors with the same name but different typization"
   ]
  },
  {
   "cell_type": "code",
   "execution_count": null,
   "metadata": {},
   "outputs": [],
   "source": [
    "_problematic_patients = df_all_patients.set_index('donor_name').join(df_all_patients.set_index('donor_name'), lsuffix='_l', rsuffix='_r')\\\n",
    "    .loc[lambda x: x.donor_typization_l < x.donor_typization_r]\n",
    "\n",
    "print(len(_problematic_patients.index))\n",
    "_problematic_patients[['txm_event_l', 'donor_typization_l', 'donor_typization_r', 'txm_event_r', ]].head()"
   ]
  },
  {
   "cell_type": "markdown",
   "metadata": {},
   "source": [
    "#### 2. Recipients with the same name but different typization"
   ]
  },
  {
   "cell_type": "code",
   "execution_count": null,
   "metadata": {},
   "outputs": [],
   "source": [
    "_problematic_patients = df_all_patients.set_index('recipient_name').join(df_all_patients.set_index('recipient_name'), lsuffix='_l', rsuffix='_r')\\\n",
    "    .loc[lambda x: x.recipient_typization_l < x.recipient_typization_r]\n",
    "\n",
    "print(len(_problematic_patients.index))\n",
    "_problematic_patients[['txm_event_l', 'recipient_typization_l', 'recipient_typization_r', 'txm_event_r', ]].head()"
   ]
  },
  {
   "cell_type": "markdown",
   "metadata": {},
   "source": [
    "#### 3. Donors with the same typization but different name"
   ]
  },
  {
   "cell_type": "code",
   "execution_count": null,
   "metadata": {},
   "outputs": [],
   "source": [
    "_problematic_patients = df_all_patients.set_index('donor_typization').join(df_all_patients.set_index('donor_typization'), lsuffix='_l', rsuffix='_r')\\\n",
    "    .loc[lambda x: x.donor_name_l < x.donor_name_r]\n",
    "\n",
    "print(len(_problematic_patients.index))\n",
    "_problematic_patients[['txm_event_l', 'donor_name_l', 'donor_name_r', 'txm_event_r', ]].head()"
   ]
  },
  {
   "cell_type": "markdown",
   "metadata": {},
   "source": [
    "#### 4. Recipients with the same typization but different name"
   ]
  },
  {
   "cell_type": "code",
   "execution_count": null,
   "metadata": {},
   "outputs": [],
   "source": [
    "_problematic_patients = df_all_patients.set_index('recipient_typization').join(df_all_patients.set_index('recipient_typization'), lsuffix='_l', rsuffix='_r')\\\n",
    "    .loc[lambda x: x.recipient_name_l < x.recipient_name_r]\n",
    "\n",
    "print(len(_problematic_patients.index))\n",
    "_problematic_patients[['txm_event_l', 'recipient_name_l', 'recipient_name_r', 'txm_event_r', ]].head()"
   ]
  },
  {
   "cell_type": "markdown",
   "metadata": {},
   "source": [
    "### Plotting"
   ]
  },
  {
   "cell_type": "code",
   "execution_count": null,
   "metadata": {},
   "outputs": [],
   "source": [
    "%matplotlib inline\n",
    "\n",
    "a = df_all_patients.groupby(['recipient_name']).count().groupby(['txm_event']).count()['donor_blood_group']\n",
    "a.plot.bar(title='# patients in # rounds', figsize=(10, 5))"
   ]
  },
  {
   "cell_type": "code",
   "execution_count": null,
   "metadata": {},
   "outputs": [],
   "source": [
    "df_all_patients.groupby(['txm_event']).nunique()[['recipient_typization', 'recipient_name','donor_typization', 'donor_name' ]]\\\n",
    "    .plot.bar(figsize=(20, 5), title='Number of specified values for each txm_event')"
   ]
  },
  {
   "cell_type": "code",
   "execution_count": null,
   "metadata": {},
   "outputs": [],
   "source": [
    "df_patients_to_event = pd.pivot_table(df_all_patients.assign(one=1), values='one', index=['recipient_name'], columns=['txm_event'], aggfunc=np.sum, fill_value=0)\n",
    "df_event_to_patients = pd.pivot_table(df_all_patients.assign(one=1), values='one', index=['txm_event'], columns=['recipient_name'], aggfunc=np.sum, fill_value=0)\n",
    "df_event_to_patients.plot.area(figsize=(20,10), legend=False, title='In what txm events each patient was')"
   ]
  },
  {
   "cell_type": "code",
   "execution_count": null,
   "metadata": {},
   "outputs": [],
   "source": [
    "# Uncomment to show the above in table\n",
    "# df_patients_to_event"
   ]
  },
  {
   "cell_type": "markdown",
   "metadata": {},
   "source": [
    "## B) Kidney survival data"
   ]
  },
  {
   "cell_type": "code",
   "execution_count": null,
   "metadata": {},
   "outputs": [],
   "source": [
    "df_survival = pd.read_csv('data/LD_kidney_survival.csv')\n",
    "df_survival.head()"
   ]
  },
  {
   "cell_type": "code",
   "execution_count": null,
   "metadata": {},
   "outputs": [],
   "source": [
    "# df_survival.columns"
   ]
  },
  {
   "cell_type": "code",
   "execution_count": null,
   "metadata": {},
   "outputs": [],
   "source": [
    "# df_survival.loc[0]"
   ]
  },
  {
   "cell_type": "code",
   "execution_count": null,
   "metadata": {},
   "outputs": [],
   "source": [
    "def _create_hlas(group_to_values):\n",
    "    all_codes = \",\".join([\n",
    "        \",\".join(\n",
    "            [\n",
    "                group + str(int(val)) # + ('FOO' if val != str(int(val)) else '') # Problem: types with leading zeror are not joined even though if the zero is removed\n",
    "                for val in str(values if not pd.isnull(values) else '').split(\",\") \n",
    "                if len(val.strip()) > 0 and val != '-'\n",
    "            ]\n",
    "        )\n",
    "        for group, values in group_to_values.items()\n",
    "    ])\n",
    "    return _parse_hla(all_codes)\n",
    "\n",
    "def create_donor_typization(row):\n",
    "    return _create_hlas({\n",
    "        'A': row['Donor_HLAA'],\n",
    "        'B': row['Donor_HLAB'],\n",
    "        'Cw': row['Donor_HLACw'],\n",
    "        'DP': row['Donor_HLADP'],\n",
    "        'DQ': row['Donor_HLADQ'],\n",
    "        'DR': row['Donor_HLADR']\n",
    "    })\n",
    "\n",
    "def create_recipient_typization(row):\n",
    "    return _create_hlas({\n",
    "        'A': row['HLAA'],\n",
    "        'B': row['HLAB'],\n",
    "        'Cw': row['HLACw'],\n",
    "        'DP': row['HLADP'],\n",
    "        'DQ': row['HLADQ'],\n",
    "        'DR': row['HLADR']\n",
    "    })\n",
    "\n",
    "df_survival['donor_typization'] = df_survival.apply(create_donor_typization, axis=1)\n",
    "df_survival['recipient_typization'] = df_survival.apply(create_recipient_typization, axis=1)\n",
    "\n",
    "df_survival['StartDate'] = pd.to_datetime(df_survival['StartDate'])\n",
    "df_survival['LastVisitDate'] = pd.to_datetime(df_survival['LastVisitDate'])\n",
    "df_survival['EndDate'] = pd.to_datetime(df_survival['EndDate'])\n",
    "\n",
    "df_survival['delay'] = (df_survival['LastVisitDate'] - df_survival['StartDate']).dt.days\n",
    "\n",
    "df_survival.head()\n",
    "# df_survival.columns"
   ]
  },
  {
   "cell_type": "markdown",
   "metadata": {},
   "source": [
    "### Not successful transplants with smallest delay"
   ]
  },
  {
   "cell_type": "code",
   "execution_count": null,
   "metadata": {},
   "outputs": [],
   "source": [
    "df_survival.loc[df_survival.EndReason.notnull()].sort_values(by='delay').head()"
   ]
  },
  {
   "cell_type": "markdown",
   "metadata": {},
   "source": [
    "## C) Join both data"
   ]
  },
  {
   "cell_type": "markdown",
   "metadata": {},
   "source": [
    "### C.1. Preprocess patiens"
   ]
  },
  {
   "cell_type": "code",
   "execution_count": null,
   "metadata": {},
   "outputs": [],
   "source": [
    "# df_all_patients"
   ]
  },
  {
   "cell_type": "code",
   "execution_count": null,
   "metadata": {},
   "outputs": [],
   "source": [
    "df_patients_summary = df_all_patients.groupby(\n",
    "    ['donor_name', 'donor_typization', 'donor_blood_group', 'donor_relationship', 'recipient_name', \n",
    "     'recipient_typization', 'recipient_acceptable_blood']\n",
    ")[['txm_event']].agg(lambda x: \",\".join([str(i) for i in x])).reset_index()\n",
    "\n",
    "df_patients_summary.rename(columns={\n",
    "    'donor_name': 'orig_donor_name',\n",
    "    'donor_typization': 'orig_donor_typization',\n",
    "    'donor_blood_group': 'orig_donor_blood_group',\n",
    "    'donor_relationship': 'orig_donor_relationship',\n",
    "    # 'recipient_luminex_2': 'recipient_luminex',\n",
    "    'txm_event': 'txm_events'\n",
    "}, inplace=True)\n",
    "\n",
    "df_patients_summary['last_txm_event'] = df_patients_summary['txm_events'].apply(lambda events: int(str(events).split(\",\")[-1])).astype('int32')\n",
    "\n",
    "print(len(df_patients_summary.index))\n",
    "df_patients_summary.head()"
   ]
  },
  {
   "cell_type": "markdown",
   "metadata": {},
   "source": [
    "### C.2. Preprocess survival data"
   ]
  },
  {
   "cell_type": "code",
   "execution_count": null,
   "metadata": {},
   "outputs": [],
   "source": [
    "df_survival_summary = df_survival[['StartDate', 'LastVisitDate', 'EndDate', 'delay', 'EndReason', 'NoVisits', 'donor_typization', 'recipient_typization']]\n",
    "df_survival_summary.head()"
   ]
  },
  {
   "cell_type": "markdown",
   "metadata": {},
   "source": [
    "### C.3. Join both data"
   ]
  },
  {
   "cell_type": "code",
   "execution_count": null,
   "metadata": {},
   "outputs": [],
   "source": [
    "df_joined = df_patients_summary.set_index('recipient_typization').join(df_survival_summary.set_index('recipient_typization'), how='inner')\n",
    "df_joined = df_joined.reset_index()\n",
    "print(len(df_joined.index))\n"
   ]
  },
  {
   "cell_type": "markdown",
   "metadata": {},
   "source": [
    "### Oldest transplant in joined data"
   ]
  },
  {
   "cell_type": "code",
   "execution_count": null,
   "metadata": {},
   "outputs": [],
   "source": [
    "df_joined_oldest = df_joined.sort_values(by='StartDate')\n",
    "oldest_start_date = df_joined_oldest.iloc[0].StartDate\n",
    "print(oldest_start_date)\n",
    "df_joined_oldest.iloc[0:1]"
   ]
  },
  {
   "cell_type": "markdown",
   "metadata": {},
   "source": [
    "### Number survival data that are more recent than the oldes transplant"
   ]
  },
  {
   "cell_type": "code",
   "execution_count": null,
   "metadata": {},
   "outputs": [],
   "source": [
    "df_survival_summary_recent = df_survival_summary.loc[df_survival_summary.StartDate >= oldest_start_date].sort_values(by='StartDate')\n",
    "print(len(df_survival_summary_recent.index))"
   ]
  },
  {
   "cell_type": "code",
   "execution_count": null,
   "metadata": {},
   "outputs": [],
   "source": [
    "df_joined #.sort_values(by='StartDate')"
   ]
  },
  {
   "cell_type": "code",
   "execution_count": null,
   "metadata": {},
   "outputs": [],
   "source": [
    "df_joined.plot(x='last_txm_event', y='StartDate', style=\".\", figsize=(10, 7))"
   ]
  },
  {
   "cell_type": "markdown",
   "metadata": {},
   "source": [
    "### Duplicated data"
   ]
  },
  {
   "cell_type": "code",
   "execution_count": null,
   "metadata": {},
   "outputs": [],
   "source": [
    "df_joined_duplicated = df_joined.reset_index()[df_joined.reset_index().duplicated(subset='recipient_typization')]\n",
    "df_joined_duplicated"
   ]
  },
  {
   "cell_type": "code",
   "execution_count": null,
   "metadata": {},
   "outputs": [],
   "source": [
    "df_joined_duplicated.plot(x='last_txm_event', y='StartDate', style=\".\", figsize=(10, 7))"
   ]
  },
  {
   "cell_type": "markdown",
   "metadata": {},
   "source": [
    "## D) Run scorer"
   ]
  },
  {
   "cell_type": "markdown",
   "metadata": {},
   "source": [
    "### Imports"
   ]
  },
  {
   "cell_type": "code",
   "execution_count": null,
   "metadata": {},
   "outputs": [],
   "source": [
    "sys.path.insert(0, \"../..\")\n",
    "\n",
    "from txmatching.scorers.split_hla_additive_scorer import SplitScorer\n",
    "from txmatching.scorers.high_res_hla_additive_scorer import HighResScorer\n",
    "from txmatching.scorers.high_res_other_hla_types_additive_scorer import \\\n",
    "    HighResWithDQDPScorer\n",
    "\n",
    "from txmatching.utils.blood_groups import BloodGroup\n",
    "from txmatching.utils.country_enum import Country\n",
    "\n",
    "from txmatching.patients.patient import Donor, Recipient\n",
    "from txmatching.patients.patient_parameters import PatientParameters\n",
    "\n",
    "from tests.test_utilities.hla_preparation_utils import (create_antibodies,\n",
    "                                                        create_hla_typing)\n",
    "\n",
    "from tests.test_utilities.prepare_app_for_tests import DbTests"
   ]
  },
  {
   "cell_type": "code",
   "execution_count": null,
   "metadata": {},
   "outputs": [],
   "source": [
    "# Initialize db\n",
    "test = DbTests()\n",
    "test.setUp()"
   ]
  },
  {
   "cell_type": "code",
   "execution_count": null,
   "metadata": {},
   "outputs": [],
   "source": [
    "# test.tearDown()"
   ]
  },
  {
   "cell_type": "code",
   "execution_count": null,
   "metadata": {},
   "outputs": [],
   "source": [
    "# Select scorer that will be used\n",
    "\n",
    "split_scorer = SplitScorer()\n",
    "high_res_scorer = HighResScorer()\n",
    "high_res_other_hla_types_scorer = HighResWithDQDPScorer()\n",
    "\n",
    "active_scorer = split_scorer"
   ]
  },
  {
   "cell_type": "code",
   "execution_count": null,
   "metadata": {},
   "outputs": [],
   "source": [
    "def row_to_score(row):\n",
    "    \n",
    "    if row.donor_typization == '' or row.recipient_typization == '':\n",
    "        return None\n",
    "    \n",
    "    donor_typing = row.donor_typization.split(\" \")\n",
    "    recipient_typing = row.recipient_typization.split(\" \")\n",
    "    \n",
    "    donor = Donor(\n",
    "        db_id=-1,\n",
    "        medical_id='donor',\n",
    "        related_recipient_db_id=1,\n",
    "        parameters=PatientParameters(\n",
    "            blood_group=BloodGroup.A,\n",
    "            country_code=Country.CZE,\n",
    "            hla_typing=create_hla_typing(\n",
    "                donor_typing\n",
    "            )\n",
    "        )\n",
    "    )\n",
    "    \n",
    "    recipient = Recipient(\n",
    "        db_id=1,\n",
    "        acceptable_blood_groups=[],\n",
    "        related_donor_db_id=1,\n",
    "        medical_id='recipient',\n",
    "        parameters=PatientParameters(\n",
    "            blood_group=BloodGroup.A,\n",
    "            country_code=Country.CZE,\n",
    "            hla_typing=create_hla_typing(recipient_typing)\n",
    "        ),\n",
    "        hla_antibodies=create_antibodies([])\n",
    "    )\n",
    "    \n",
    "    score = active_scorer.score_transplant(\n",
    "        donor=donor,\n",
    "        recipient=recipient,\n",
    "        original_donor=None\n",
    "    )\n",
    "    \n",
    "    return score\n",
    "\n",
    "df_scored = df_survival_summary\n",
    "df_scored['score'] = df_scored.apply(row_to_score, axis=1)"
   ]
  },
  {
   "cell_type": "markdown",
   "metadata": {},
   "source": [
    "### Score distribution"
   ]
  },
  {
   "cell_type": "code",
   "execution_count": null,
   "metadata": {},
   "outputs": [],
   "source": [
    "df_scored_filtered = df_scored[df_scored.score.notnull()]\n",
    "df_scored_filtered.score.hist(bins=26)"
   ]
  },
  {
   "cell_type": "markdown",
   "metadata": {},
   "source": [
    "### Delay distribution on ended patients"
   ]
  },
  {
   "cell_type": "code",
   "execution_count": null,
   "metadata": {},
   "outputs": [],
   "source": [
    "df_scored_ended = df_scored_filtered[df_scored_filtered.EndDate.notnull()]\n",
    "print(len(df_scored_ended.index))\n",
    "df_scored_ended.delay.hist()"
   ]
  },
  {
   "cell_type": "markdown",
   "metadata": {},
   "source": [
    "### Score distribution on ended patients"
   ]
  },
  {
   "cell_type": "code",
   "execution_count": null,
   "metadata": {},
   "outputs": [],
   "source": [
    "df_scored_ended.score.hist(bins=26)"
   ]
  },
  {
   "cell_type": "markdown",
   "metadata": {},
   "source": [
    "### Score distribution on ended patients with delay < 10 years"
   ]
  },
  {
   "cell_type": "code",
   "execution_count": null,
   "metadata": {},
   "outputs": [],
   "source": [
    "df_scored_ended[df_scored_ended.delay<3650].score.hist(bins=26)"
   ]
  },
  {
   "cell_type": "markdown",
   "metadata": {},
   "source": [
    "### Dependency between delay and score on ended patients"
   ]
  },
  {
   "cell_type": "code",
   "execution_count": null,
   "metadata": {},
   "outputs": [],
   "source": [
    "df_scored_ended.plot.scatter(x='delay', y='score')"
   ]
  },
  {
   "cell_type": "code",
   "execution_count": null,
   "metadata": {},
   "outputs": [],
   "source": [
    "df_scored_ended.score.corr(df_scored_ended.delay)"
   ]
  },
  {
   "cell_type": "markdown",
   "metadata": {},
   "source": [
    "### Ended patients with the smalles delay"
   ]
  },
  {
   "cell_type": "code",
   "execution_count": null,
   "metadata": {},
   "outputs": [],
   "source": [
    "df_scored_ended.sort_values(by='delay', ascending=True).head()"
   ]
  }
 ],
 "metadata": {
  "kernelspec": {
   "display_name": "TXM new",
   "language": "python",
   "name": "txmatching"
  },
  "language_info": {
   "codemirror_mode": {
    "name": "ipython",
    "version": 3
   },
   "file_extension": ".py",
   "mimetype": "text/x-python",
   "name": "python",
   "nbconvert_exporter": "python",
   "pygments_lexer": "ipython3",
   "version": "3.8.3"
  }
 },
 "nbformat": 4,
 "nbformat_minor": 2
}
