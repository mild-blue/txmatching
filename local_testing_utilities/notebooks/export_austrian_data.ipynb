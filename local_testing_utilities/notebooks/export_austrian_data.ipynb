{
 "cells": [
  {
   "cell_type": "code",
   "execution_count": null,
   "metadata": {},
   "outputs": [],
   "source": [
    "import pandas as pd\n",
    "import os"
   ]
  },
  {
   "cell_type": "code",
   "execution_count": null,
   "metadata": {},
   "outputs": [],
   "source": [
    "path = \"\"\n",
    "donor_blood_group_file = \"\"\n",
    "txm_event_name = \"44-TXM-2024-01\"\n",
    "# starting_pattern = \"W-\"\n",
    "starting_pattern = \"KPPD_\"\n",
    "delimiter=\";\""
   ]
  },
  {
   "cell_type": "code",
   "execution_count": null,
   "metadata": {},
   "outputs": [],
   "source": [
    "#historically they were sending us also donor blood groups in a separate file, they no longer do that\n",
    "# donor_blood_groups = (pd.read_csv(os.path.join(path, donor_blood_group_file), delimiter=\";\")\n",
    "# .set_index(\"FamilyID\").BloodType)"
   ]
  },
  {
   "cell_type": "code",
   "execution_count": null,
   "metadata": {
    "pycharm": {
     "name": "#%%\n"
    }
   },
   "outputs": [],
   "source": [
    "infos = []\n",
    "for i in os.listdir(path):\n",
    "    if i.startswith(starting_pattern) and i.endswith(\".csv\"):\n",
    "        df = pd.read_csv(os.path.join(path, i), delimiter=delimiter)\n",
    "\n",
    "\n",
    "        new = df[[\"FamilyID\",\"BloodType\",\"PatientTyping\",\"DonorID\",\"DonorTyping\", \"Gender\", \"DOB\"]].iloc[0]\n",
    "        luminex_col = \"RawData\"\n",
    "        tt = (df[[\"Specificity\",luminex_col]]\n",
    "         .assign(hla_code = lambda df: df.Specificity.str.split(\",\").apply(lambda x: [y for y in x if y!=\"-\"]))\n",
    "         .loc[lambda df: df.hla_code.apply(len)>0]\n",
    "        )\n",
    "\n",
    "        antibodies=[]\n",
    "        for _, row in tt.iterrows():\n",
    "            if len(row.hla_code) == 1:\n",
    "                antibodies.append((row.hla_code[0], int(float(row[luminex_col].replace(\",\",\".\")))))\n",
    "            elif len(row.hla_code) == 2:\n",
    "                hlas = row.hla_code\n",
    "                start_code = hlas[0][0:2]\n",
    "                if start_code in {\"DP\", \"DQ\"}:\n",
    "                    first_number_code = hlas[0].split(\"*\")[-1]\n",
    "                    second_number_code = hlas[1].split(\"*\")[-1]\n",
    "                    antibodies.append((\n",
    "                        f\"{start_code}[{first_number_code},{second_number_code}]\",\n",
    "                        int(float(row[luminex_col].replace(\",\",\".\")))\n",
    "                    ))\n",
    "                else:\n",
    "                    raise ValueError(f\"Unexpected start of hla code that has multiple values per row: {hlas[0][0:2]}\")\n",
    "            else:\n",
    "                raise ValueError(f\"Unexpected number of hla codes on one row: {len(row.hla_code)}\")\n",
    "\n",
    "\n",
    "        new[\"RecipientAntibodies\"] = antibodies\n",
    "        # if there are not any donor blood groups, set A and inform IKEM\n",
    "        new[\"DonorBloodType\"] = donor_blood_groups.loc[new.DonorID] if donor_blood_group_file else 'A'\n",
    "\n",
    "        infos.append(new.to_frame().T)\n",
    "        dum = df\n",
    "df = pd.concat(infos)"
   ]
  },
  {
   "cell_type": "code",
   "execution_count": null,
   "metadata": {},
   "outputs": [],
   "source": [
    "dff = df.rename(columns = {\"FamilyID\": \"RecipientID\", \"PatientTyping\": \"RecipientTyping\"})"
   ]
  },
  {
   "cell_type": "code",
   "execution_count": null,
   "metadata": {},
   "outputs": [],
   "source": [
    "dff.iloc[0,7]"
   ]
  },
  {
   "cell_type": "code",
   "execution_count": null,
   "metadata": {
    "pycharm": {
     "name": "#%%\n"
    }
   },
   "outputs": [],
   "source": [
    "donors = [\n",
    "    {\n",
    "        'medical_id': row.DonorID,\n",
    "        'blood_group': row.DonorBloodType,\n",
    "        'hla_typing': row.DonorTyping.split(\",\"),\n",
    "        'donor_type': \"DONOR\",\n",
    "\n",
    "        'related_recipient_medical_id': row.RecipientID\n",
    "    }\n",
    "    for _, row in dff.iterrows()\n",
    "]\n",
    "\n",
    "acg_for_zero = [\"A\",\"B\", \"O\"]\n",
    "acg_for_other = [\"A\",\"B\", \"O\", \"AB\"]\n",
    "recipients = [\n",
    "    {\n",
    "        'medical_id': row.RecipientID,\n",
    "        'blood_group': row.BloodType,\n",
    "        'hla_typing': row.RecipientTyping.split(\",\"),\n",
    "        'year_of_birth': int(row.DOB.split(\".\")[-1]),\n",
    "        'sex': row.Gender if not pd.isna(row.Gender) else None,\n",
    "        # if there are not any donor blood groups,\n",
    "        # set acceptable_blood_groups as [] and inform IKEM\n",
    "        'acceptable_blood_groups': (acg_for_zero if row.BloodType == \"O\"\n",
    "                                    else acg_for_other) if donor_blood_group_file else [],\n",
    "        \"hla_antibodies\": [\n",
    "            {\n",
    "                \"mfi\": antibody[1],\n",
    "                \"name\": antibody[0],\n",
    "                \"cutoff\": 2000\n",
    "            }\n",
    "            for antibody in row.RecipientAntibodies\n",
    "        ]\n",
    "    }\n",
    "    for _, row in dff.iterrows()\n",
    "]\n",
    "\n",
    "\n",
    "\n",
    "\n",
    "input_json = {\n",
    "    \"country\": \"AUT\",\n",
    "    \"txm_event_name\": txm_event_name,\n",
    "    \"donors\": donors,\n",
    "    \"recipients\": recipients\n",
    "}"
   ]
  },
  {
   "cell_type": "code",
   "execution_count": null,
   "metadata": {
    "pycharm": {
     "name": "#%%\n"
    }
   },
   "outputs": [],
   "source": [
    "import json\n",
    "with open(os.path.join(path, \"wien_export.json\"), 'w') as f:\n",
    "\n",
    "    json.dump(input_json, f)"
   ]
  },
  {
   "cell_type": "code",
   "execution_count": null,
   "metadata": {},
   "outputs": [],
   "source": []
  }
 ],
 "metadata": {
  "kernelspec": {
   "display_name": "Python (isletnet)",
   "language": "python",
   "name": "isletnet"
  },
  "language_info": {
   "codemirror_mode": {
    "name": "ipython",
    "version": 3
   },
   "file_extension": ".py",
   "mimetype": "text/x-python",
   "name": "python",
   "nbconvert_exporter": "python",
   "pygments_lexer": "ipython3",
   "version": "3.10.5"
  }
 },
 "nbformat": 4,
 "nbformat_minor": 4
}
