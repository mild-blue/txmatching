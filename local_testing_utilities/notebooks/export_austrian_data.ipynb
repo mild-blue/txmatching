{
 "cells": [
  {
   "cell_type": "code",
   "execution_count": null,
   "metadata": {},
   "outputs": [],
   "source": [
    "import pandas as pd\n",
    "import os"
   ]
  },
  {
   "cell_type": "code",
   "execution_count": null,
   "metadata": {},
   "outputs": [],
   "source": [
    "path = \"/home/honza/Downloads/Re_KPD_-_April_2024_-_Data_Entry_new\"\n",
    "txm_event_name = \"45-TXM-2024-04\"\n",
    "# starting_pattern = \"W-\"\n",
    "starting_pattern = \"KPD2024_2024_4_10_\"\n",
    "delimiter=\";\""
   ]
  },
  {
   "cell_type": "code",
   "execution_count": null,
   "metadata": {},
   "outputs": [],
   "source": []
  },
  {
   "cell_type": "code",
   "execution_count": null,
   "metadata": {
    "pycharm": {
     "name": "#%%\n"
    }
   },
   "outputs": [],
   "source": [
    "infos = []\n",
    "for i in os.listdir(path):\n",
    "    if i.startswith(starting_pattern) and i.endswith(\".csv\"):\n",
    "        print(f\"processing file {i}\")\n",
    "        file_path = os.path.join(path, i)\n",
    "        with open(file_path) as f:\n",
    "            first_line = f.readline()\n",
    "            if \";\" in first_line:\n",
    "                delimiter = \";\"\n",
    "            elif \",\" in first_line:\n",
    "                delimiter = \",\"\n",
    "            elif \"\\t\" in first_line:\n",
    "                delimiter = \"\\t\"\n",
    "            else:\n",
    "                raise ValueError\n",
    "                \n",
    "        print(f\"First line is: '{first_line[:20]}' assuming delimiter '{delimiter}'\")\n",
    "        df_one_patient = pd.read_csv(file_path, delimiter=delimiter)\n",
    "        df_one_patient=df_one_patient.drop_duplicates(subset=[\"RawData\",\"Specificity\"])\n",
    "        df_one_patient[\"FamilyID\"] = df_one_patient[\"Disease\"]  # written in slack \n",
    "        new = df_one_patient[[\"FamilyID\",\"BloodType\",\"PatientTyping\",\"DonorID\",\"DonorTyping\", \"Gender\", \"DOB\"]].iloc[0]\n",
    "        luminex_col = \"RawData\"\n",
    "\n",
    "        \n",
    "        tt = (df_one_patient[[\"Specificity\",luminex_col]]\n",
    "         .assign(hla_code = lambda df: df.Specificity.str.split(\",\").apply(lambda x: [y for y in x if y!=\"-\"]))\n",
    "         .loc[lambda df: df.hla_code.apply(len)>0]\n",
    "        )\n",
    "\n",
    "        antibodies=[]\n",
    "        for _, row in tt.iterrows():\n",
    "            if len(row.hla_code) == 1:\n",
    "                antibodies.append((row.hla_code[0], int(float(row[luminex_col].replace(\",\",\".\")))))\n",
    "            elif len(row.hla_code) == 2:\n",
    "                hlas = row.hla_code\n",
    "                start_code = hlas[0][0:2]\n",
    "                if start_code in {\"DP\", \"DQ\"}:\n",
    "                    first_number_code = hlas[0].split(\"*\")[-1]\n",
    "                    second_number_code = hlas[1].split(\"*\")[-1]\n",
    "                    antibodies.append((\n",
    "                        f\"{start_code}[{first_number_code},{second_number_code}]\",\n",
    "                        int(float(row[luminex_col].replace(\",\",\".\")))\n",
    "                    ))\n",
    "                else:\n",
    "                    raise ValueError(f\"Unexpected start of hla code that has multiple values per row: {hlas[0][0:2]}\")\n",
    "            else:\n",
    "                raise ValueError(f\"Unexpected number of hla codes on one row: {len(row.hla_code)}\")\n",
    "\n",
    "\n",
    "        new[\"RecipientAntibodies\"] = antibodies\n",
    "        # just putting fake blood group as this will be filled in UI\n",
    "        new[\"DonorBloodType\"] = 'A'\n",
    "\n",
    "        infos.append(new.to_frame().T)\n",
    "        dum = df\n",
    "df = pd.concat(infos)"
   ]
  },
  {
   "cell_type": "code",
   "execution_count": null,
   "metadata": {},
   "outputs": [],
   "source": [
    "dff = df.rename(columns = {\"FamilyID\": \"RecipientID\", \"PatientTyping\": \"RecipientTyping\"})"
   ]
  },
  {
   "cell_type": "code",
   "execution_count": null,
   "metadata": {},
   "outputs": [],
   "source": [
    "dff.iloc[0]"
   ]
  },
  {
   "cell_type": "code",
   "execution_count": null,
   "metadata": {
    "pycharm": {
     "name": "#%%\n"
    }
   },
   "outputs": [],
   "source": [
    "donors = [\n",
    "    {\n",
    "        'medical_id': row.DonorID,\n",
    "        'blood_group': row.DonorBloodType,\n",
    "        'hla_typing': row.DonorTyping.split(\",\"),\n",
    "        'donor_type': \"DONOR\",\n",
    "\n",
    "        'related_recipient_medical_id': row.RecipientID\n",
    "    }\n",
    "    for _, row in dff.iterrows()\n",
    "]\n",
    "\n",
    "acg_for_zero = [\"A\",\"B\", \"O\"]\n",
    "acg_for_other = [\"A\",\"B\", \"O\", \"AB\"]\n",
    "recipients = [\n",
    "    {\n",
    "        'medical_id': row.RecipientID,\n",
    "        'blood_group': row.BloodType,\n",
    "        'hla_typing': row.RecipientTyping.split(\",\"),\n",
    "        'year_of_birth': int(row.DOB.split(\".\")[-1]),\n",
    "        'sex': row.Gender if not pd.isna(row.Gender) else None,\n",
    "        # just putting fake acceptable blood groups as this will be filled in UI\n",
    "        'acceptable_blood_groups': [],\n",
    "        \"hla_antibodies\": [\n",
    "            {\n",
    "                \"mfi\": antibody[1],\n",
    "                \"name\": antibody[0],\n",
    "                \"cutoff\": 2000\n",
    "            }\n",
    "            for antibody in row.RecipientAntibodies\n",
    "        ]\n",
    "    }\n",
    "    for _, row in dff.iterrows()\n",
    "]\n",
    "\n",
    "\n",
    "\n",
    "\n",
    "input_json = {\n",
    "    \"country\": \"AUT\",\n",
    "    \"txm_event_name\": txm_event_name,\n",
    "    \"donors\": donors,\n",
    "    \"recipients\": recipients\n",
    "}"
   ]
  },
  {
   "cell_type": "code",
   "execution_count": null,
   "metadata": {
    "pycharm": {
     "name": "#%%\n"
    }
   },
   "outputs": [],
   "source": [
    "import json\n",
    "with open(os.path.join(path, \"wien_export.json\"), 'w') as f:\n",
    "\n",
    "    json.dump(input_json, f)"
   ]
  },
  {
   "cell_type": "code",
   "execution_count": null,
   "metadata": {},
   "outputs": [],
   "source": [
    "input_json"
   ]
  },
  {
   "cell_type": "code",
   "execution_count": null,
   "metadata": {},
   "outputs": [],
   "source": []
  },
  {
   "cell_type": "code",
   "execution_count": null,
   "metadata": {},
   "outputs": [],
   "source": []
  }
 ],
 "metadata": {
  "kernelspec": {
   "display_name": "Python (isletnet)",
   "language": "python",
   "name": "isletnet"
  },
  "language_info": {
   "codemirror_mode": {
    "name": "ipython",
    "version": 3
   },
   "file_extension": ".py",
   "mimetype": "text/x-python",
   "name": "python",
   "nbconvert_exporter": "python",
   "pygments_lexer": "ipython3",
   "version": "3.10.8"
  }
 },
 "nbformat": 4,
 "nbformat_minor": 4
}
