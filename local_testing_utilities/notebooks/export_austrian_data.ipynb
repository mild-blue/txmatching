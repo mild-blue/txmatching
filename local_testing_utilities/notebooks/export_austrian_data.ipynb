{
 "cells": [
  {
   "cell_type": "code",
   "execution_count": null,
   "metadata": {},
   "outputs": [],
   "source": [
    "import pandas as pd\n",
    "import os"
   ]
  },
  {
   "cell_type": "code",
   "execution_count": null,
   "metadata": {},
   "outputs": [],
   "source": [
    "path = \"/home/honza/Downloads/Re_KPD_-_April_2024_-_Data_Entry_new\"\n",
    "txm_event_name = \"45-TXM-2024-04\"\n",
    "# starting_pattern = \"W-\"\n",
    "starting_pattern = \"KPD2024_2024_4_10_\"\n",
    "delimiter=\";\""
   ]
  },
  {
   "cell_type": "code",
   "execution_count": null,
   "metadata": {},
   "outputs": [],
   "source": [
    "\n",
    "acg_for_zero = [\"A\",\"B\", \"O\"]\n",
    "acg_for_other = [\"A\",\"B\", \"O\", \"AB\"]\n",
    "luminex_col = \"RawData\""
   ]
  },
  {
   "cell_type": "code",
   "execution_count": null,
   "metadata": {},
   "outputs": [],
   "source": [
    "donors = [\n",
    "    {\n",
    "        'medical_id': row.DonorID,\n",
    "        'blood_group': row.DonorBloodType,\n",
    "        'hla_typing': row.DonorTyping.split(\",\"),\n",
    "        'donor_type': \"DONOR\",\n",
    "\n",
    "        'related_recipient_medical_id': row.RecipientID\n",
    "    }\n",
    "    for _, row in dff.iterrows()\n",
    "]\n",
    "\n",
    "\n",
    "recipients = [\n",
    "    {\n",
    "        'medical_id': row.RecipientID,\n",
    "        'blood_group': row.BloodType,\n",
    "        'hla_typing': row.RecipientTyping.split(\",\"),\n",
    "        'year_of_birth': int(row.DOB.split(\".\")[-1]),\n",
    "        'sex': row.Gender if not pd.isna(row.Gender) else None,\n",
    "        # just putting fake acceptable blood groups as this will be filled in UI\n",
    "        'acceptable_blood_groups': [],\n",
    "        \"hla_antibodies\": [\n",
    "            {\n",
    "                \"mfi\": antibody[1],\n",
    "                \"name\": antibody[0],\n",
    "                \"cutoff\": 2000\n",
    "            }\n",
    "            for antibody in row.RecipientAntibodies\n",
    "        ]\n",
    "    }\n",
    "    for _, row in dff.iterrows()\n",
    "]"
   ]
  },
  {
   "cell_type": "code",
   "execution_count": null,
   "metadata": {
    "pycharm": {
     "name": "#%%\n"
    }
   },
   "outputs": [],
   "source": [
    "infos = []\n",
    "donors = []\n",
    "recipients = []\n",
    "for i in os.listdir(path):\n",
    "    if i.startswith(starting_pattern) and i.endswith(\".csv\"):\n",
    "        print(f\"processing file {i}\")\n",
    "        file_path = os.path.join(path, i)\n",
    "        with open(file_path) as f:\n",
    "            first_line = f.readline()\n",
    "            if \";\" in first_line:\n",
    "                delimiter = \";\"\n",
    "            elif \",\" in first_line:\n",
    "                delimiter = \",\"\n",
    "            elif \"\\t\" in first_line:\n",
    "                delimiter = \"\\t\"\n",
    "            else:\n",
    "                raise ValueError\n",
    "                \n",
    "        print(f\"First line is: '{first_line[:20]}' assuming delimiter '{delimiter}'\")\n",
    "        df_one_patient = pd.read_csv(file_path, delimiter=delimiter)\n",
    "        df_one_patient[\"FamilyID\"] = df_one_patient[\"Disease\"]\n",
    "        df_donor = df_one_patient[[\"DonorID\",\"DonorTyping\"]].drop_duplicates()\n",
    "        df_recipient = df_one_patient[[\"FamilyID\",\"BloodType\",\"PatientTyping\",\"Gender\", \"DOB\"]].drop_duplicates()\n",
    "        assert len(df_donor) == 1\n",
    "        assert len(df_recipient) == 1\n",
    "        \n",
    "        antibodies_df = (df_one_patient[[\"Specificity\",luminex_col]]\n",
    "         .assign(hla_code = lambda df: df.Specificity.str.split(\",\").apply(lambda x: [y for y in x if y!=\"-\"]))\n",
    "         .loc[lambda df: df.hla_code.apply(len)>0]\n",
    "        )\n",
    "\n",
    "        antibodies=[]\n",
    "        for _, row in antibodies_df.iterrows():\n",
    "            if len(row.hla_code) == 1:\n",
    "                antibodies.append((row.hla_code[0], int(float(row[luminex_col].replace(\",\",\".\")))))\n",
    "            elif len(row.hla_code) == 2:\n",
    "                hlas = row.hla_code\n",
    "                start_code = hlas[0][0:2]\n",
    "                if start_code in {\"DP\", \"DQ\"}:\n",
    "                    first_number_code = hlas[0].split(\"*\")[-1]\n",
    "                    second_number_code = hlas[1].split(\"*\")[-1]\n",
    "                    antibodies.append((\n",
    "                        f\"{start_code}[{first_number_code},{second_number_code}]\",\n",
    "                        int(float(row[luminex_col].replace(\",\",\".\")))\n",
    "                    ))\n",
    "                else:\n",
    "                    raise ValueError(f\"Unexpected start of hla code that has multiple values per row: {hlas[0][0:2]}\")\n",
    "            else:\n",
    "                raise ValueError(f\"Unexpected number of hla codes on one row: {len(row.hla_code)}\")\n",
    "        raw_typing = df_recipient.PatientTyping.iloc[0].split(\",\")\n",
    "        typing=[]\n",
    "        # clear cw codes and make them C\n",
    "        for hla_code in raw_typing:\n",
    "            hla_code = hla_code.strip()\n",
    "            if hla_code.startswith(\"Cw\"):\n",
    "                hla_code = hla_code.replace(\"Cw\",\"C\")\n",
    "            typing.append(hla_code)\n",
    "\n",
    "        recipients.append(\n",
    "            {\n",
    "                'medical_id': df_recipient.FamilyID.iloc[0],\n",
    "                'blood_group': df_recipient.BloodType.iloc[0],\n",
    "                'hla_typing': typing,\n",
    "                'year_of_birth': int(df_recipient.DOB.iloc[0].split(\".\")[-1]),\n",
    "                'sex': df_recipient.Gender.iloc[0] if not pd.isna(df_recipient.Gender.iloc[0]) else None,\n",
    "                # just putting fake acceptable blood groups as this will be filled in UI\n",
    "                'acceptable_blood_groups': [],\n",
    "                \"hla_antibodies\": [\n",
    "                    {\n",
    "                        \"mfi\": antibody[1],\n",
    "                        \"name\": antibody[0],\n",
    "                        \"cutoff\": 2000\n",
    "                    }\n",
    "                    for antibody in antibodies\n",
    "                ]\n",
    "            }\n",
    "        )\n",
    "        donors.append(\n",
    "                    {\n",
    "                'medical_id': df_donor.DonorID.iloc[0],\n",
    "                'blood_group': \"A\",\n",
    "                'hla_typing': df_donor.DonorTyping.iloc[0].split(\",\"),\n",
    "                'donor_type': \"DONOR\",\n",
    "\n",
    "                'related_recipient_medical_id': df_recipient.FamilyID.iloc[0]\n",
    "            }\n",
    "        )\n"
   ]
  },
  {
   "cell_type": "code",
   "execution_count": null,
   "metadata": {},
   "outputs": [],
   "source": [
    "print(f\"pocet prijemcu: {len(recipients)}, pocet donoru {len(donors)}\")\n",
    "\n",
    "import json\n",
    "print(json.dumps(recipients[0],indent=4) )\n",
    "print(json.dumps(donors[-1],indent=4) )"
   ]
  },
  {
   "cell_type": "code",
   "execution_count": null,
   "metadata": {
    "pycharm": {
     "name": "#%%\n"
    }
   },
   "outputs": [],
   "source": [
    "input_json = {\n",
    "    \"country\": \"AUT\",\n",
    "    \"txm_event_name\": txm_event_name,\n",
    "    \"donors\": donors,\n",
    "    \"recipients\": recipients\n",
    "}"
   ]
  },
  {
   "cell_type": "code",
   "execution_count": null,
   "metadata": {
    "pycharm": {
     "name": "#%%\n"
    }
   },
   "outputs": [],
   "source": [
    "import json\n",
    "with open(os.path.join(path, \"wien_export.json\"), 'w') as f:\n",
    "\n",
    "    json.dump(input_json, f)"
   ]
  },
  {
   "cell_type": "code",
   "execution_count": null,
   "metadata": {},
   "outputs": [],
   "source": []
  }
 ],
 "metadata": {
  "kernelspec": {
   "display_name": "Python (isletnet)",
   "language": "python",
   "name": "isletnet"
  },
  "language_info": {
   "codemirror_mode": {
    "name": "ipython",
    "version": 3
   },
   "file_extension": ".py",
   "mimetype": "text/x-python",
   "name": "python",
   "nbconvert_exporter": "python",
   "pygments_lexer": "ipython3",
   "version": "3.10.8"
  }
 },
 "nbformat": 4,
 "nbformat_minor": 4
}
